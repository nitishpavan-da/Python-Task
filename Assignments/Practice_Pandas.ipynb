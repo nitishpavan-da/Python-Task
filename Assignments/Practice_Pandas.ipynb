{
 "cells": [
  {
   "cell_type": "code",
   "execution_count": 1,
   "metadata": {},
   "outputs": [],
   "source": [
    "import pandas as pd\n",
    "import numpy as np"
   ]
  },
  {
   "cell_type": "code",
   "execution_count": 3,
   "metadata": {},
   "outputs": [
    {
     "data": {
      "text/plain": [
       "array([1, 2, 3, 4, 5])"
      ]
     },
     "execution_count": 3,
     "metadata": {},
     "output_type": "execute_result"
    }
   ],
   "source": [
    "array1 = np.array((1,2,3,4,5))\n",
    "array1"
   ]
  },
  {
   "cell_type": "code",
   "execution_count": 5,
   "metadata": {},
   "outputs": [
    {
     "data": {
      "text/plain": [
       "0    a\n",
       "1    b\n",
       "2    c\n",
       "3    d\n",
       "4    e\n",
       "dtype: object"
      ]
     },
     "execution_count": 5,
     "metadata": {},
     "output_type": "execute_result"
    }
   ],
   "source": [
    "series1 = pd.Series(('a','b','c','d','e'))\n",
    "series1"
   ]
  },
  {
   "cell_type": "code",
   "execution_count": 12,
   "metadata": {},
   "outputs": [
    {
     "data": {
      "text/plain": [
       "101    a\n",
       "102    b\n",
       "103    c\n",
       "104    d\n",
       "105    e\n",
       "dtype: object"
      ]
     },
     "execution_count": 12,
     "metadata": {},
     "output_type": "execute_result"
    }
   ],
   "source": [
    "series1 = np.array(('a','b','c','d','e'))\n",
    "series2 = pd.Series(series1 , index = [101,102,103,104,105])\n",
    "series2"
   ]
  },
  {
   "cell_type": "code",
   "execution_count": 13,
   "metadata": {},
   "outputs": [
    {
     "data": {
      "text/plain": [
       "pandas.core.series.Series"
      ]
     },
     "execution_count": 13,
     "metadata": {},
     "output_type": "execute_result"
    }
   ],
   "source": [
    "type(series2)"
   ]
  },
  {
   "cell_type": "code",
   "execution_count": 14,
   "metadata": {},
   "outputs": [
    {
     "data": {
      "text/plain": [
       "numpy.ndarray"
      ]
     },
     "execution_count": 14,
     "metadata": {},
     "output_type": "execute_result"
    }
   ],
   "source": [
    "type(series1)"
   ]
  },
  {
   "cell_type": "code",
   "execution_count": 15,
   "metadata": {},
   "outputs": [
    {
     "data": {
      "text/plain": [
       "a    1\n",
       "b    2\n",
       "c    3\n",
       "d    4\n",
       "dtype: int64"
      ]
     },
     "execution_count": 15,
     "metadata": {},
     "output_type": "execute_result"
    }
   ],
   "source": [
    "dict1 = {'a':1,'b':2,'c':3,'d':4}\n",
    "series3 = pd.Series(dict1)\n",
    "series3"
   ]
  },
  {
   "cell_type": "code",
   "execution_count": 24,
   "metadata": {},
   "outputs": [
    {
     "data": {
      "text/plain": [
       "0    Batsmen\n",
       "2    Batsmen\n",
       "4    Batsmen\n",
       "6    Batsmen\n",
       "8    Batsmen\n",
       "dtype: object"
      ]
     },
     "execution_count": 24,
     "metadata": {},
     "output_type": "execute_result"
    }
   ],
   "source": [
    "scalar = pd.Series('Batsmen', index = np.arange(0,10,2))\n",
    "scalar"
   ]
  },
  {
   "cell_type": "code",
   "execution_count": 28,
   "metadata": {},
   "outputs": [
    {
     "data": {
      "text/plain": [
       "1    Bowler\n",
       "3    Bowler\n",
       "5    Bowler\n",
       "7    Bowler\n",
       "9    Bowler\n",
       "dtype: object"
      ]
     },
     "execution_count": 28,
     "metadata": {},
     "output_type": "execute_result"
    }
   ],
   "source": [
    "scalar1 = pd.Series('Bowler',index = np.arange(1,11,2))\n",
    "scalar\n",
    "scalar1"
   ]
  },
  {
   "cell_type": "code",
   "execution_count": 31,
   "metadata": {},
   "outputs": [],
   "source": [
    "scalar1[5] = \"Wicket Keeper\""
   ]
  },
  {
   "cell_type": "code",
   "execution_count": 32,
   "metadata": {},
   "outputs": [
    {
     "data": {
      "text/plain": [
       "1           Bowler\n",
       "3           Bowler\n",
       "5    Wicket Keeper\n",
       "7           Bowler\n",
       "9           Bowler\n",
       "dtype: object"
      ]
     },
     "execution_count": 32,
     "metadata": {},
     "output_type": "execute_result"
    }
   ],
   "source": [
    "scalar1"
   ]
  },
  {
   "cell_type": "code",
   "execution_count": 34,
   "metadata": {},
   "outputs": [
    {
     "name": "stdout",
     "output_type": "stream",
     "text": [
      "Empty DataFrame\n",
      "Columns: []\n",
      "Index: []\n"
     ]
    }
   ],
   "source": [
    "df = pd.DataFrame()\n",
    "print(df)"
   ]
  },
  {
   "cell_type": "code",
   "execution_count": 42,
   "metadata": {},
   "outputs": [
    {
     "data": {
      "text/html": [
       "<div>\n",
       "<style scoped>\n",
       "    .dataframe tbody tr th:only-of-type {\n",
       "        vertical-align: middle;\n",
       "    }\n",
       "\n",
       "    .dataframe tbody tr th {\n",
       "        vertical-align: top;\n",
       "    }\n",
       "\n",
       "    .dataframe thead th {\n",
       "        text-align: right;\n",
       "    }\n",
       "</style>\n",
       "<table border=\"1\" class=\"dataframe\">\n",
       "  <thead>\n",
       "    <tr style=\"text-align: right;\">\n",
       "      <th></th>\n",
       "      <th>Details</th>\n",
       "      <th>Info</th>\n",
       "    </tr>\n",
       "  </thead>\n",
       "  <tbody>\n",
       "    <tr>\n",
       "      <th>Rank1</th>\n",
       "      <td>Name</td>\n",
       "      <td>Nitish Pavan</td>\n",
       "    </tr>\n",
       "    <tr>\n",
       "      <th>Rank2</th>\n",
       "      <td>DOB</td>\n",
       "      <td>28061992</td>\n",
       "    </tr>\n",
       "    <tr>\n",
       "      <th>Rank3</th>\n",
       "      <td>Current Profression</td>\n",
       "      <td>Data Analyst</td>\n",
       "    </tr>\n",
       "    <tr>\n",
       "      <th>Rank4</th>\n",
       "      <td>Application</td>\n",
       "      <td>Python</td>\n",
       "    </tr>\n",
       "  </tbody>\n",
       "</table>\n",
       "</div>"
      ],
      "text/plain": [
       "                   Details          Info\n",
       "Rank1                 Name  Nitish Pavan\n",
       "Rank2                  DOB      28061992\n",
       "Rank3  Current Profression  Data Analyst\n",
       "Rank4          Application        Python"
      ]
     },
     "execution_count": 42,
     "metadata": {},
     "output_type": "execute_result"
    }
   ],
   "source": [
    "Details = [\"Name\",\"DOB\",\"Current Profression\",\"Application\"]\n",
    "Info = [\"Nitish Pavan\",28061992,\"Data Analyst\",\"Python\"]\n",
    "dict1 = {\"Details\":Details , \"Info\":Info}\n",
    "indexes = ['Rank1','Rank2','Rank3','Rank4']\n",
    "df1 = pd.DataFrame(dict1,index = indexes)\n",
    "df1"
   ]
  },
  {
   "cell_type": "code",
   "execution_count": 44,
   "metadata": {},
   "outputs": [
    {
     "data": {
      "text/plain": [
       "Rank1    Nitish Pavan\n",
       "Rank2        28061992\n",
       "Rank3    Data Analyst\n",
       "Rank4          Python\n",
       "Name: Info, dtype: object"
      ]
     },
     "execution_count": 44,
     "metadata": {},
     "output_type": "execute_result"
    }
   ],
   "source": [
    "df1['Info']"
   ]
  },
  {
   "cell_type": "code",
   "execution_count": 45,
   "metadata": {},
   "outputs": [
    {
     "data": {
      "text/plain": [
       "Rank1                   Name\n",
       "Rank2                    DOB\n",
       "Rank3    Current Profression\n",
       "Rank4            Application\n",
       "Name: Details, dtype: object"
      ]
     },
     "execution_count": 45,
     "metadata": {},
     "output_type": "execute_result"
    }
   ],
   "source": [
    "df1['Details']"
   ]
  },
  {
   "cell_type": "code",
   "execution_count": 50,
   "metadata": {},
   "outputs": [],
   "source": [
    "Working_Cities = ['Banglore','Hyderabad','Pune','Mumbai']\n",
    "df1['Working_Cities'] = Working_Cities"
   ]
  },
  {
   "cell_type": "code",
   "execution_count": 51,
   "metadata": {},
   "outputs": [
    {
     "data": {
      "text/html": [
       "<div>\n",
       "<style scoped>\n",
       "    .dataframe tbody tr th:only-of-type {\n",
       "        vertical-align: middle;\n",
       "    }\n",
       "\n",
       "    .dataframe tbody tr th {\n",
       "        vertical-align: top;\n",
       "    }\n",
       "\n",
       "    .dataframe thead th {\n",
       "        text-align: right;\n",
       "    }\n",
       "</style>\n",
       "<table border=\"1\" class=\"dataframe\">\n",
       "  <thead>\n",
       "    <tr style=\"text-align: right;\">\n",
       "      <th></th>\n",
       "      <th>Details</th>\n",
       "      <th>Info</th>\n",
       "      <th>Working_Cities</th>\n",
       "    </tr>\n",
       "  </thead>\n",
       "  <tbody>\n",
       "    <tr>\n",
       "      <th>Rank1</th>\n",
       "      <td>Name</td>\n",
       "      <td>Nitish Pavan</td>\n",
       "      <td>Banglore</td>\n",
       "    </tr>\n",
       "    <tr>\n",
       "      <th>Rank2</th>\n",
       "      <td>DOB</td>\n",
       "      <td>28061992</td>\n",
       "      <td>Hyderabad</td>\n",
       "    </tr>\n",
       "    <tr>\n",
       "      <th>Rank3</th>\n",
       "      <td>Current Profression</td>\n",
       "      <td>Data Analyst</td>\n",
       "      <td>Pune</td>\n",
       "    </tr>\n",
       "    <tr>\n",
       "      <th>Rank4</th>\n",
       "      <td>Application</td>\n",
       "      <td>Python</td>\n",
       "      <td>Mumbai</td>\n",
       "    </tr>\n",
       "  </tbody>\n",
       "</table>\n",
       "</div>"
      ],
      "text/plain": [
       "                   Details          Info Working_Cities\n",
       "Rank1                 Name  Nitish Pavan       Banglore\n",
       "Rank2                  DOB      28061992      Hyderabad\n",
       "Rank3  Current Profression  Data Analyst           Pune\n",
       "Rank4          Application        Python         Mumbai"
      ]
     },
     "execution_count": 51,
     "metadata": {},
     "output_type": "execute_result"
    }
   ],
   "source": [
    "df1"
   ]
  },
  {
   "cell_type": "code",
   "execution_count": 52,
   "metadata": {},
   "outputs": [
    {
     "data": {
      "text/html": [
       "<div>\n",
       "<style scoped>\n",
       "    .dataframe tbody tr th:only-of-type {\n",
       "        vertical-align: middle;\n",
       "    }\n",
       "\n",
       "    .dataframe tbody tr th {\n",
       "        vertical-align: top;\n",
       "    }\n",
       "\n",
       "    .dataframe thead th {\n",
       "        text-align: right;\n",
       "    }\n",
       "</style>\n",
       "<table border=\"1\" class=\"dataframe\">\n",
       "  <thead>\n",
       "    <tr style=\"text-align: right;\">\n",
       "      <th></th>\n",
       "      <th>Details</th>\n",
       "      <th>Info</th>\n",
       "      <th>Working_Cities</th>\n",
       "    </tr>\n",
       "  </thead>\n",
       "  <tbody>\n",
       "    <tr>\n",
       "      <th>Rank1</th>\n",
       "      <td>Name</td>\n",
       "      <td>Nitish Pavan</td>\n",
       "      <td>Banglore</td>\n",
       "    </tr>\n",
       "    <tr>\n",
       "      <th>Rank2</th>\n",
       "      <td>DOB</td>\n",
       "      <td>28061992</td>\n",
       "      <td>Hyderabad</td>\n",
       "    </tr>\n",
       "    <tr>\n",
       "      <th>Rank3</th>\n",
       "      <td>Current Profression</td>\n",
       "      <td>Data Analyst</td>\n",
       "      <td>Pune</td>\n",
       "    </tr>\n",
       "    <tr>\n",
       "      <th>Rank4</th>\n",
       "      <td>Application</td>\n",
       "      <td>Python</td>\n",
       "      <td>Mumbai</td>\n",
       "    </tr>\n",
       "  </tbody>\n",
       "</table>\n",
       "</div>"
      ],
      "text/plain": [
       "                   Details          Info Working_Cities\n",
       "Rank1                 Name  Nitish Pavan       Banglore\n",
       "Rank2                  DOB      28061992      Hyderabad\n",
       "Rank3  Current Profression  Data Analyst           Pune\n",
       "Rank4          Application        Python         Mumbai"
      ]
     },
     "execution_count": 52,
     "metadata": {},
     "output_type": "execute_result"
    }
   ],
   "source": [
    "df1"
   ]
  },
  {
   "cell_type": "code",
   "execution_count": 54,
   "metadata": {},
   "outputs": [
    {
     "data": {
      "text/html": [
       "<div>\n",
       "<style scoped>\n",
       "    .dataframe tbody tr th:only-of-type {\n",
       "        vertical-align: middle;\n",
       "    }\n",
       "\n",
       "    .dataframe tbody tr th {\n",
       "        vertical-align: top;\n",
       "    }\n",
       "\n",
       "    .dataframe thead th {\n",
       "        text-align: right;\n",
       "    }\n",
       "</style>\n",
       "<table border=\"1\" class=\"dataframe\">\n",
       "  <thead>\n",
       "    <tr style=\"text-align: right;\">\n",
       "      <th></th>\n",
       "      <th>Details</th>\n",
       "      <th>Info</th>\n",
       "      <th>Working_Cities</th>\n",
       "    </tr>\n",
       "  </thead>\n",
       "  <tbody>\n",
       "    <tr>\n",
       "      <th>Rank1</th>\n",
       "      <td>Name</td>\n",
       "      <td>Nitish Pavan</td>\n",
       "      <td>Banglore</td>\n",
       "    </tr>\n",
       "    <tr>\n",
       "      <th>Rank2</th>\n",
       "      <td>DOB</td>\n",
       "      <td>28061992</td>\n",
       "      <td>Hyderabad</td>\n",
       "    </tr>\n",
       "    <tr>\n",
       "      <th>Rank3</th>\n",
       "      <td>Current Profression</td>\n",
       "      <td>Data Analyst</td>\n",
       "      <td>Pune</td>\n",
       "    </tr>\n",
       "    <tr>\n",
       "      <th>Rank4</th>\n",
       "      <td>Application</td>\n",
       "      <td>Python</td>\n",
       "      <td>Mumbai</td>\n",
       "    </tr>\n",
       "  </tbody>\n",
       "</table>\n",
       "</div>"
      ],
      "text/plain": [
       "                   Details          Info Working_Cities\n",
       "Rank1                 Name  Nitish Pavan       Banglore\n",
       "Rank2                  DOB      28061992      Hyderabad\n",
       "Rank3  Current Profression  Data Analyst           Pune\n",
       "Rank4          Application        Python         Mumbai"
      ]
     },
     "execution_count": 54,
     "metadata": {},
     "output_type": "execute_result"
    }
   ],
   "source": [
    "df1.drop([\"Rank1\"], axis = 0)\n",
    "df1"
   ]
  },
  {
   "cell_type": "code",
   "execution_count": 69,
   "metadata": {},
   "outputs": [
    {
     "data": {
      "text/plain": [
       "{'Range': array([88, 83, 46, 40, 15, 49, 25, 87]),\n",
       " 'Name': array(['E', 'C', 'C', 'C', 'A', 'C', 'A', 'A'], dtype='<U1')}"
      ]
     },
     "execution_count": 69,
     "metadata": {},
     "output_type": "execute_result"
    }
   ],
   "source": [
    "random = np.random.randint(low = 10, high = 100, size = 8)\n",
    "Name = np.random.choice(['A','B','C','D','E'], size = 8)\n",
    "dict1 = {\"Range\":random, \"Name\":Name}\n",
    "dict1"
   ]
  },
  {
   "cell_type": "code",
   "execution_count": 72,
   "metadata": {},
   "outputs": [],
   "source": [
    "df3 = pd.DataFrame(dict1)"
   ]
  },
  {
   "cell_type": "code",
   "execution_count": 73,
   "metadata": {},
   "outputs": [
    {
     "data": {
      "text/html": [
       "<div>\n",
       "<style scoped>\n",
       "    .dataframe tbody tr th:only-of-type {\n",
       "        vertical-align: middle;\n",
       "    }\n",
       "\n",
       "    .dataframe tbody tr th {\n",
       "        vertical-align: top;\n",
       "    }\n",
       "\n",
       "    .dataframe thead th {\n",
       "        text-align: right;\n",
       "    }\n",
       "</style>\n",
       "<table border=\"1\" class=\"dataframe\">\n",
       "  <thead>\n",
       "    <tr style=\"text-align: right;\">\n",
       "      <th></th>\n",
       "      <th>Range</th>\n",
       "      <th>Name</th>\n",
       "    </tr>\n",
       "  </thead>\n",
       "  <tbody>\n",
       "    <tr>\n",
       "      <th>0</th>\n",
       "      <td>88</td>\n",
       "      <td>E</td>\n",
       "    </tr>\n",
       "    <tr>\n",
       "      <th>1</th>\n",
       "      <td>83</td>\n",
       "      <td>C</td>\n",
       "    </tr>\n",
       "    <tr>\n",
       "      <th>2</th>\n",
       "      <td>46</td>\n",
       "      <td>C</td>\n",
       "    </tr>\n",
       "    <tr>\n",
       "      <th>3</th>\n",
       "      <td>40</td>\n",
       "      <td>C</td>\n",
       "    </tr>\n",
       "    <tr>\n",
       "      <th>4</th>\n",
       "      <td>15</td>\n",
       "      <td>A</td>\n",
       "    </tr>\n",
       "    <tr>\n",
       "      <th>5</th>\n",
       "      <td>49</td>\n",
       "      <td>C</td>\n",
       "    </tr>\n",
       "    <tr>\n",
       "      <th>6</th>\n",
       "      <td>25</td>\n",
       "      <td>A</td>\n",
       "    </tr>\n",
       "    <tr>\n",
       "      <th>7</th>\n",
       "      <td>87</td>\n",
       "      <td>A</td>\n",
       "    </tr>\n",
       "  </tbody>\n",
       "</table>\n",
       "</div>"
      ],
      "text/plain": [
       "   Range Name\n",
       "0     88    E\n",
       "1     83    C\n",
       "2     46    C\n",
       "3     40    C\n",
       "4     15    A\n",
       "5     49    C\n",
       "6     25    A\n",
       "7     87    A"
      ]
     },
     "execution_count": 73,
     "metadata": {},
     "output_type": "execute_result"
    }
   ],
   "source": [
    "df3"
   ]
  },
  {
   "cell_type": "code",
   "execution_count": 74,
   "metadata": {},
   "outputs": [
    {
     "data": {
      "text/plain": [
       "pandas.core.frame.DataFrame"
      ]
     },
     "execution_count": 74,
     "metadata": {},
     "output_type": "execute_result"
    }
   ],
   "source": [
    "type(df3)"
   ]
  },
  {
   "cell_type": "code",
   "execution_count": 75,
   "metadata": {},
   "outputs": [
    {
     "data": {
      "text/plain": [
       "(8, 2)"
      ]
     },
     "execution_count": 75,
     "metadata": {},
     "output_type": "execute_result"
    }
   ],
   "source": [
    "df3.shape"
   ]
  },
  {
   "cell_type": "code",
   "execution_count": 79,
   "metadata": {},
   "outputs": [
    {
     "data": {
      "text/plain": [
       "0    88\n",
       "1    83\n",
       "2    46\n",
       "3    40\n",
       "4    15\n",
       "5    49\n",
       "6    25\n",
       "7    87\n",
       "Name: Range, dtype: int32"
      ]
     },
     "execution_count": 79,
     "metadata": {},
     "output_type": "execute_result"
    }
   ],
   "source": [
    "df3[\"Range\"]"
   ]
  },
  {
   "cell_type": "code",
   "execution_count": 80,
   "metadata": {},
   "outputs": [
    {
     "data": {
      "text/plain": [
       "array([[88, 'E'],\n",
       "       [83, 'C'],\n",
       "       [46, 'C'],\n",
       "       [40, 'C'],\n",
       "       [15, 'A'],\n",
       "       [49, 'C'],\n",
       "       [25, 'A'],\n",
       "       [87, 'A']], dtype=object)"
      ]
     },
     "execution_count": 80,
     "metadata": {},
     "output_type": "execute_result"
    }
   ],
   "source": [
    "df3.values"
   ]
  },
  {
   "cell_type": "code",
   "execution_count": 86,
   "metadata": {},
   "outputs": [
    {
     "data": {
      "text/html": [
       "<div>\n",
       "<style scoped>\n",
       "    .dataframe tbody tr th:only-of-type {\n",
       "        vertical-align: middle;\n",
       "    }\n",
       "\n",
       "    .dataframe tbody tr th {\n",
       "        vertical-align: top;\n",
       "    }\n",
       "\n",
       "    .dataframe thead th {\n",
       "        text-align: right;\n",
       "    }\n",
       "</style>\n",
       "<table border=\"1\" class=\"dataframe\">\n",
       "  <thead>\n",
       "    <tr style=\"text-align: right;\">\n",
       "      <th></th>\n",
       "      <th>Range</th>\n",
       "      <th>Name</th>\n",
       "    </tr>\n",
       "  </thead>\n",
       "  <tbody>\n",
       "    <tr>\n",
       "      <th>0</th>\n",
       "      <td>88</td>\n",
       "      <td>E</td>\n",
       "    </tr>\n",
       "    <tr>\n",
       "      <th>1</th>\n",
       "      <td>83</td>\n",
       "      <td>C</td>\n",
       "    </tr>\n",
       "    <tr>\n",
       "      <th>2</th>\n",
       "      <td>46</td>\n",
       "      <td>C</td>\n",
       "    </tr>\n",
       "    <tr>\n",
       "      <th>3</th>\n",
       "      <td>40</td>\n",
       "      <td>C</td>\n",
       "    </tr>\n",
       "    <tr>\n",
       "      <th>4</th>\n",
       "      <td>15</td>\n",
       "      <td>A</td>\n",
       "    </tr>\n",
       "    <tr>\n",
       "      <th>5</th>\n",
       "      <td>49</td>\n",
       "      <td>C</td>\n",
       "    </tr>\n",
       "    <tr>\n",
       "      <th>6</th>\n",
       "      <td>25</td>\n",
       "      <td>A</td>\n",
       "    </tr>\n",
       "    <tr>\n",
       "      <th>7</th>\n",
       "      <td>87</td>\n",
       "      <td>A</td>\n",
       "    </tr>\n",
       "  </tbody>\n",
       "</table>\n",
       "</div>"
      ],
      "text/plain": [
       "   Range Name\n",
       "0     88    E\n",
       "1     83    C\n",
       "2     46    C\n",
       "3     40    C\n",
       "4     15    A\n",
       "5     49    C\n",
       "6     25    A\n",
       "7     87    A"
      ]
     },
     "execution_count": 86,
     "metadata": {},
     "output_type": "execute_result"
    }
   ],
   "source": [
    "df3.tail(8)"
   ]
  },
  {
   "cell_type": "code",
   "execution_count": 174,
   "metadata": {},
   "outputs": [
    {
     "ename": "TypeError",
     "evalue": "parser_f() got an unexpected keyword argument 'ignoreindex'",
     "output_type": "error",
     "traceback": [
      "\u001b[1;31m---------------------------------------------------------------------------\u001b[0m",
      "\u001b[1;31mTypeError\u001b[0m                                 Traceback (most recent call last)",
      "\u001b[1;32m<ipython-input-174-b95132e1e072>\u001b[0m in \u001b[0;36m<module>\u001b[1;34m\u001b[0m\n\u001b[1;32m----> 1\u001b[1;33m \u001b[0mmarks_df\u001b[0m \u001b[1;33m=\u001b[0m \u001b[0mpd\u001b[0m\u001b[1;33m.\u001b[0m\u001b[0mread_csv\u001b[0m\u001b[1;33m(\u001b[0m\u001b[1;34m\"StatewiseTestingDetails.csv\"\u001b[0m\u001b[1;33m,\u001b[0m\u001b[0mignoreindex\u001b[0m \u001b[1;33m=\u001b[0m \u001b[1;32mTrue\u001b[0m\u001b[1;33m)\u001b[0m\u001b[1;33m\u001b[0m\u001b[1;33m\u001b[0m\u001b[0m\n\u001b[0m\u001b[0;32m      2\u001b[0m \u001b[0mmarks_df\u001b[0m\u001b[1;33m\u001b[0m\u001b[1;33m\u001b[0m\u001b[0m\n",
      "\u001b[1;31mTypeError\u001b[0m: parser_f() got an unexpected keyword argument 'ignoreindex'"
     ]
    }
   ],
   "source": [
    "marks_df = pd.read_csv(\"StatewiseTestingDetails.csv\",ignoreindex = True)\n",
    "marks_df"
   ]
  },
  {
   "cell_type": "code",
   "execution_count": 92,
   "metadata": {},
   "outputs": [
    {
     "data": {
      "text/plain": [
       "0       Andaman and Nicobar Islands\n",
       "1       Andaman and Nicobar Islands\n",
       "2       Andaman and Nicobar Islands\n",
       "3       Andaman and Nicobar Islands\n",
       "4       Andaman and Nicobar Islands\n",
       "                   ...             \n",
       "6651                    West Bengal\n",
       "6652                    West Bengal\n",
       "6653                    West Bengal\n",
       "6654                    West Bengal\n",
       "6655                    West Bengal\n",
       "Name: State, Length: 6656, dtype: object"
      ]
     },
     "execution_count": 92,
     "metadata": {},
     "output_type": "execute_result"
    }
   ],
   "source": [
    "marks_df[\"State\"]"
   ]
  },
  {
   "cell_type": "code",
   "execution_count": 93,
   "metadata": {},
   "outputs": [
    {
     "data": {
      "text/html": [
       "<div>\n",
       "<style scoped>\n",
       "    .dataframe tbody tr th:only-of-type {\n",
       "        vertical-align: middle;\n",
       "    }\n",
       "\n",
       "    .dataframe tbody tr th {\n",
       "        vertical-align: top;\n",
       "    }\n",
       "\n",
       "    .dataframe thead th {\n",
       "        text-align: right;\n",
       "    }\n",
       "</style>\n",
       "<table border=\"1\" class=\"dataframe\">\n",
       "  <thead>\n",
       "    <tr style=\"text-align: right;\">\n",
       "      <th></th>\n",
       "      <th>Date</th>\n",
       "      <th>State</th>\n",
       "      <th>TotalSamples</th>\n",
       "      <th>Negative</th>\n",
       "      <th>Positive</th>\n",
       "    </tr>\n",
       "  </thead>\n",
       "  <tbody>\n",
       "    <tr>\n",
       "      <th>0</th>\n",
       "      <td>4/17/2020</td>\n",
       "      <td>Andaman and Nicobar Islands</td>\n",
       "      <td>1403</td>\n",
       "      <td>1210</td>\n",
       "      <td>12.0</td>\n",
       "    </tr>\n",
       "    <tr>\n",
       "      <th>1</th>\n",
       "      <td>4/24/2020</td>\n",
       "      <td>Andaman and Nicobar Islands</td>\n",
       "      <td>2679</td>\n",
       "      <td>NaN</td>\n",
       "      <td>27.0</td>\n",
       "    </tr>\n",
       "    <tr>\n",
       "      <th>2</th>\n",
       "      <td>4/27/2020</td>\n",
       "      <td>Andaman and Nicobar Islands</td>\n",
       "      <td>2848</td>\n",
       "      <td>NaN</td>\n",
       "      <td>33.0</td>\n",
       "    </tr>\n",
       "    <tr>\n",
       "      <th>3</th>\n",
       "      <td>5/1/2020</td>\n",
       "      <td>Andaman and Nicobar Islands</td>\n",
       "      <td>3754</td>\n",
       "      <td>NaN</td>\n",
       "      <td>33.0</td>\n",
       "    </tr>\n",
       "    <tr>\n",
       "      <th>4</th>\n",
       "      <td>5/16/2020</td>\n",
       "      <td>Andaman and Nicobar Islands</td>\n",
       "      <td>6677</td>\n",
       "      <td>NaN</td>\n",
       "      <td>33.0</td>\n",
       "    </tr>\n",
       "    <tr>\n",
       "      <th>5</th>\n",
       "      <td>5/19/2020</td>\n",
       "      <td>Andaman and Nicobar Islands</td>\n",
       "      <td>6965</td>\n",
       "      <td>NaN</td>\n",
       "      <td>33.0</td>\n",
       "    </tr>\n",
       "    <tr>\n",
       "      <th>6</th>\n",
       "      <td>5/20/2020</td>\n",
       "      <td>Andaman and Nicobar Islands</td>\n",
       "      <td>7082</td>\n",
       "      <td>NaN</td>\n",
       "      <td>33.0</td>\n",
       "    </tr>\n",
       "    <tr>\n",
       "      <th>7</th>\n",
       "      <td>5/21/2020</td>\n",
       "      <td>Andaman and Nicobar Islands</td>\n",
       "      <td>7167</td>\n",
       "      <td>NaN</td>\n",
       "      <td>33.0</td>\n",
       "    </tr>\n",
       "    <tr>\n",
       "      <th>8</th>\n",
       "      <td>5/22/2020</td>\n",
       "      <td>Andaman and Nicobar Islands</td>\n",
       "      <td>7263</td>\n",
       "      <td>NaN</td>\n",
       "      <td>33.0</td>\n",
       "    </tr>\n",
       "    <tr>\n",
       "      <th>9</th>\n",
       "      <td>5/23/2020</td>\n",
       "      <td>Andaman and Nicobar Islands</td>\n",
       "      <td>7327</td>\n",
       "      <td>NaN</td>\n",
       "      <td>33.0</td>\n",
       "    </tr>\n",
       "  </tbody>\n",
       "</table>\n",
       "</div>"
      ],
      "text/plain": [
       "        Date                        State  TotalSamples Negative  Positive\n",
       "0  4/17/2020  Andaman and Nicobar Islands          1403     1210      12.0\n",
       "1  4/24/2020  Andaman and Nicobar Islands          2679      NaN      27.0\n",
       "2  4/27/2020  Andaman and Nicobar Islands          2848      NaN      33.0\n",
       "3   5/1/2020  Andaman and Nicobar Islands          3754      NaN      33.0\n",
       "4  5/16/2020  Andaman and Nicobar Islands          6677      NaN      33.0\n",
       "5  5/19/2020  Andaman and Nicobar Islands          6965      NaN      33.0\n",
       "6  5/20/2020  Andaman and Nicobar Islands          7082      NaN      33.0\n",
       "7  5/21/2020  Andaman and Nicobar Islands          7167      NaN      33.0\n",
       "8  5/22/2020  Andaman and Nicobar Islands          7263      NaN      33.0\n",
       "9  5/23/2020  Andaman and Nicobar Islands          7327      NaN      33.0"
      ]
     },
     "execution_count": 93,
     "metadata": {},
     "output_type": "execute_result"
    }
   ],
   "source": [
    "marks_df.head(10)"
   ]
  },
  {
   "cell_type": "code",
   "execution_count": 126,
   "metadata": {},
   "outputs": [
    {
     "data": {
      "text/html": [
       "<div>\n",
       "<style scoped>\n",
       "    .dataframe tbody tr th:only-of-type {\n",
       "        vertical-align: middle;\n",
       "    }\n",
       "\n",
       "    .dataframe tbody tr th {\n",
       "        vertical-align: top;\n",
       "    }\n",
       "\n",
       "    .dataframe thead th {\n",
       "        text-align: right;\n",
       "    }\n",
       "</style>\n",
       "<table border=\"1\" class=\"dataframe\">\n",
       "  <thead>\n",
       "    <tr style=\"text-align: right;\">\n",
       "      <th></th>\n",
       "      <th>Name</th>\n",
       "      <th>Physics</th>\n",
       "      <th>Biology</th>\n",
       "      <th>Mathematics</th>\n",
       "      <th>English</th>\n",
       "      <th>Telugu</th>\n",
       "      <th>Total</th>\n",
       "    </tr>\n",
       "  </thead>\n",
       "  <tbody>\n",
       "    <tr>\n",
       "      <th>0</th>\n",
       "      <td>Nitish</td>\n",
       "      <td>74</td>\n",
       "      <td>80</td>\n",
       "      <td>75</td>\n",
       "      <td>73</td>\n",
       "      <td>98</td>\n",
       "      <td>400</td>\n",
       "    </tr>\n",
       "    <tr>\n",
       "      <th>1</th>\n",
       "      <td>Maruthi</td>\n",
       "      <td>81</td>\n",
       "      <td>80</td>\n",
       "      <td>73</td>\n",
       "      <td>75</td>\n",
       "      <td>98</td>\n",
       "      <td>407</td>\n",
       "    </tr>\n",
       "    <tr>\n",
       "      <th>2</th>\n",
       "      <td>Sharath</td>\n",
       "      <td>80</td>\n",
       "      <td>97</td>\n",
       "      <td>99</td>\n",
       "      <td>75</td>\n",
       "      <td>75</td>\n",
       "      <td>426</td>\n",
       "    </tr>\n",
       "    <tr>\n",
       "      <th>3</th>\n",
       "      <td>Harsha</td>\n",
       "      <td>98</td>\n",
       "      <td>92</td>\n",
       "      <td>81</td>\n",
       "      <td>92</td>\n",
       "      <td>85</td>\n",
       "      <td>448</td>\n",
       "    </tr>\n",
       "    <tr>\n",
       "      <th>4</th>\n",
       "      <td>Bubby</td>\n",
       "      <td>79</td>\n",
       "      <td>91</td>\n",
       "      <td>74</td>\n",
       "      <td>80</td>\n",
       "      <td>97</td>\n",
       "      <td>421</td>\n",
       "    </tr>\n",
       "  </tbody>\n",
       "</table>\n",
       "</div>"
      ],
      "text/plain": [
       "      Name  Physics  Biology  Mathematics  English  Telugu  Total\n",
       "0   Nitish       74       80           75       73      98    400\n",
       "1  Maruthi       81       80           73       75      98    407\n",
       "2  Sharath       80       97           99       75      75    426\n",
       "3   Harsha       98       92           81       92      85    448\n",
       "4    Bubby       79       91           74       80      97    421"
      ]
     },
     "execution_count": 126,
     "metadata": {},
     "output_type": "execute_result"
    }
   ],
   "source": [
    "Name = [\"Nitish\",\"Maruthi\",\"Sharath\",\"Harsha\",\"Bubby\"]\n",
    "Physics = np.random.randint(low = 70, high = 100, size = 5)\n",
    "Biology = np.random.randint(low = 70, high = 100, size = 5)\n",
    "Mathematics = np.random.randint(low = 70, high = 100, size = 5)\n",
    "English = np.random.randint(low = 70, high = 100, size = 5)\n",
    "Telugu = np.random.randint(low = 70, high = 100, size = 5)\n",
    "\n",
    "\n",
    "dict1 = {\"Name\":Name , \"Physics\":Physics, \"Biology\":Biology, \"Mathematics\":Mathematics,\"English\":English,\"Telugu\":Telugu,\"Total\":Physics+Biology+Mathematics+English+Telugu}\n",
    "df4 = pd.DataFrame(dict1)\n",
    "df4"
   ]
  },
  {
   "cell_type": "code",
   "execution_count": 127,
   "metadata": {},
   "outputs": [],
   "source": [
    "df.to_csv(\"Marks_Sheet.csv\")"
   ]
  },
  {
   "cell_type": "code",
   "execution_count": 143,
   "metadata": {},
   "outputs": [
    {
     "data": {
      "text/html": [
       "<div>\n",
       "<style scoped>\n",
       "    .dataframe tbody tr th:only-of-type {\n",
       "        vertical-align: middle;\n",
       "    }\n",
       "\n",
       "    .dataframe tbody tr th {\n",
       "        vertical-align: top;\n",
       "    }\n",
       "\n",
       "    .dataframe thead th {\n",
       "        text-align: right;\n",
       "    }\n",
       "</style>\n",
       "<table border=\"1\" class=\"dataframe\">\n",
       "  <thead>\n",
       "    <tr style=\"text-align: right;\">\n",
       "      <th></th>\n",
       "      <th>Physics</th>\n",
       "      <th>Biology</th>\n",
       "      <th>Mathematics</th>\n",
       "      <th>English</th>\n",
       "      <th>Telugu</th>\n",
       "      <th>Total</th>\n",
       "    </tr>\n",
       "    <tr>\n",
       "      <th>Name</th>\n",
       "      <th></th>\n",
       "      <th></th>\n",
       "      <th></th>\n",
       "      <th></th>\n",
       "      <th></th>\n",
       "      <th></th>\n",
       "    </tr>\n",
       "  </thead>\n",
       "  <tbody>\n",
       "    <tr>\n",
       "      <th>Nitish</th>\n",
       "      <td>74</td>\n",
       "      <td>80</td>\n",
       "      <td>75</td>\n",
       "      <td>73</td>\n",
       "      <td>98</td>\n",
       "      <td>400</td>\n",
       "    </tr>\n",
       "    <tr>\n",
       "      <th>Maruthi</th>\n",
       "      <td>81</td>\n",
       "      <td>80</td>\n",
       "      <td>73</td>\n",
       "      <td>75</td>\n",
       "      <td>98</td>\n",
       "      <td>407</td>\n",
       "    </tr>\n",
       "    <tr>\n",
       "      <th>Sharath</th>\n",
       "      <td>80</td>\n",
       "      <td>97</td>\n",
       "      <td>99</td>\n",
       "      <td>75</td>\n",
       "      <td>75</td>\n",
       "      <td>426</td>\n",
       "    </tr>\n",
       "    <tr>\n",
       "      <th>Harsha</th>\n",
       "      <td>98</td>\n",
       "      <td>92</td>\n",
       "      <td>81</td>\n",
       "      <td>92</td>\n",
       "      <td>85</td>\n",
       "      <td>448</td>\n",
       "    </tr>\n",
       "    <tr>\n",
       "      <th>Bubby</th>\n",
       "      <td>79</td>\n",
       "      <td>91</td>\n",
       "      <td>74</td>\n",
       "      <td>80</td>\n",
       "      <td>97</td>\n",
       "      <td>421</td>\n",
       "    </tr>\n",
       "  </tbody>\n",
       "</table>\n",
       "</div>"
      ],
      "text/plain": [
       "         Physics  Biology  Mathematics  English  Telugu  Total\n",
       "Name                                                          \n",
       "Nitish        74       80           75       73      98    400\n",
       "Maruthi       81       80           73       75      98    407\n",
       "Sharath       80       97           99       75      75    426\n",
       "Harsha        98       92           81       92      85    448\n",
       "Bubby         79       91           74       80      97    421"
      ]
     },
     "execution_count": 143,
     "metadata": {},
     "output_type": "execute_result"
    }
   ],
   "source": [
    "df4"
   ]
  },
  {
   "cell_type": "code",
   "execution_count": 144,
   "metadata": {},
   "outputs": [
    {
     "data": {
      "text/plain": [
       "Physics         74\n",
       "Biology         80\n",
       "Mathematics     75\n",
       "English         73\n",
       "Telugu          98\n",
       "Total          400\n",
       "Name: Nitish, dtype: int32"
      ]
     },
     "execution_count": 144,
     "metadata": {},
     "output_type": "execute_result"
    }
   ],
   "source": [
    "df4.iloc[0]"
   ]
  },
  {
   "cell_type": "code",
   "execution_count": 145,
   "metadata": {},
   "outputs": [
    {
     "data": {
      "text/plain": [
       "Physics         81\n",
       "Biology         80\n",
       "Mathematics     73\n",
       "English         75\n",
       "Telugu          98\n",
       "Total          407\n",
       "Name: Maruthi, dtype: int32"
      ]
     },
     "execution_count": 145,
     "metadata": {},
     "output_type": "execute_result"
    }
   ],
   "source": [
    "df4.iloc[1]"
   ]
  },
  {
   "cell_type": "code",
   "execution_count": 147,
   "metadata": {},
   "outputs": [
    {
     "data": {
      "text/plain": [
       "Physics         74\n",
       "Biology         80\n",
       "Mathematics     75\n",
       "English         73\n",
       "Telugu          98\n",
       "Total          400\n",
       "Name: Nitish, dtype: int32"
      ]
     },
     "execution_count": 147,
     "metadata": {},
     "output_type": "execute_result"
    }
   ],
   "source": [
    "df4.iloc[0]"
   ]
  },
  {
   "cell_type": "code",
   "execution_count": 148,
   "metadata": {},
   "outputs": [
    {
     "data": {
      "text/html": [
       "<div>\n",
       "<style scoped>\n",
       "    .dataframe tbody tr th:only-of-type {\n",
       "        vertical-align: middle;\n",
       "    }\n",
       "\n",
       "    .dataframe tbody tr th {\n",
       "        vertical-align: top;\n",
       "    }\n",
       "\n",
       "    .dataframe thead th {\n",
       "        text-align: right;\n",
       "    }\n",
       "</style>\n",
       "<table border=\"1\" class=\"dataframe\">\n",
       "  <thead>\n",
       "    <tr style=\"text-align: right;\">\n",
       "      <th></th>\n",
       "      <th>Physics</th>\n",
       "      <th>Biology</th>\n",
       "      <th>Mathematics</th>\n",
       "      <th>English</th>\n",
       "      <th>Telugu</th>\n",
       "      <th>Total</th>\n",
       "    </tr>\n",
       "    <tr>\n",
       "      <th>Name</th>\n",
       "      <th></th>\n",
       "      <th></th>\n",
       "      <th></th>\n",
       "      <th></th>\n",
       "      <th></th>\n",
       "      <th></th>\n",
       "    </tr>\n",
       "  </thead>\n",
       "  <tbody>\n",
       "    <tr>\n",
       "      <th>Nitish</th>\n",
       "      <td>74</td>\n",
       "      <td>80</td>\n",
       "      <td>75</td>\n",
       "      <td>73</td>\n",
       "      <td>98</td>\n",
       "      <td>400</td>\n",
       "    </tr>\n",
       "    <tr>\n",
       "      <th>Maruthi</th>\n",
       "      <td>81</td>\n",
       "      <td>80</td>\n",
       "      <td>73</td>\n",
       "      <td>75</td>\n",
       "      <td>98</td>\n",
       "      <td>407</td>\n",
       "    </tr>\n",
       "    <tr>\n",
       "      <th>Sharath</th>\n",
       "      <td>80</td>\n",
       "      <td>97</td>\n",
       "      <td>99</td>\n",
       "      <td>75</td>\n",
       "      <td>75</td>\n",
       "      <td>426</td>\n",
       "    </tr>\n",
       "    <tr>\n",
       "      <th>Harsha</th>\n",
       "      <td>98</td>\n",
       "      <td>92</td>\n",
       "      <td>81</td>\n",
       "      <td>92</td>\n",
       "      <td>85</td>\n",
       "      <td>448</td>\n",
       "    </tr>\n",
       "    <tr>\n",
       "      <th>Bubby</th>\n",
       "      <td>79</td>\n",
       "      <td>91</td>\n",
       "      <td>74</td>\n",
       "      <td>80</td>\n",
       "      <td>97</td>\n",
       "      <td>421</td>\n",
       "    </tr>\n",
       "  </tbody>\n",
       "</table>\n",
       "</div>"
      ],
      "text/plain": [
       "         Physics  Biology  Mathematics  English  Telugu  Total\n",
       "Name                                                          \n",
       "Nitish        74       80           75       73      98    400\n",
       "Maruthi       81       80           73       75      98    407\n",
       "Sharath       80       97           99       75      75    426\n",
       "Harsha        98       92           81       92      85    448\n",
       "Bubby         79       91           74       80      97    421"
      ]
     },
     "execution_count": 148,
     "metadata": {},
     "output_type": "execute_result"
    }
   ],
   "source": [
    "df4"
   ]
  },
  {
   "cell_type": "code",
   "execution_count": 151,
   "metadata": {},
   "outputs": [
    {
     "data": {
      "text/html": [
       "<div>\n",
       "<style scoped>\n",
       "    .dataframe tbody tr th:only-of-type {\n",
       "        vertical-align: middle;\n",
       "    }\n",
       "\n",
       "    .dataframe tbody tr th {\n",
       "        vertical-align: top;\n",
       "    }\n",
       "\n",
       "    .dataframe thead th {\n",
       "        text-align: right;\n",
       "    }\n",
       "</style>\n",
       "<table border=\"1\" class=\"dataframe\">\n",
       "  <thead>\n",
       "    <tr style=\"text-align: right;\">\n",
       "      <th></th>\n",
       "      <th>Physics</th>\n",
       "      <th>Biology</th>\n",
       "      <th>Mathematics</th>\n",
       "      <th>English</th>\n",
       "      <th>Telugu</th>\n",
       "      <th>Total</th>\n",
       "    </tr>\n",
       "    <tr>\n",
       "      <th>Name</th>\n",
       "      <th></th>\n",
       "      <th></th>\n",
       "      <th></th>\n",
       "      <th></th>\n",
       "      <th></th>\n",
       "      <th></th>\n",
       "    </tr>\n",
       "  </thead>\n",
       "  <tbody>\n",
       "    <tr>\n",
       "      <th>Sharath</th>\n",
       "      <td>80</td>\n",
       "      <td>97</td>\n",
       "      <td>99</td>\n",
       "      <td>75</td>\n",
       "      <td>75</td>\n",
       "      <td>426</td>\n",
       "    </tr>\n",
       "    <tr>\n",
       "      <th>Maruthi</th>\n",
       "      <td>81</td>\n",
       "      <td>80</td>\n",
       "      <td>73</td>\n",
       "      <td>75</td>\n",
       "      <td>98</td>\n",
       "      <td>407</td>\n",
       "    </tr>\n",
       "  </tbody>\n",
       "</table>\n",
       "</div>"
      ],
      "text/plain": [
       "         Physics  Biology  Mathematics  English  Telugu  Total\n",
       "Name                                                          \n",
       "Sharath       80       97           99       75      75    426\n",
       "Maruthi       81       80           73       75      98    407"
      ]
     },
     "execution_count": 151,
     "metadata": {},
     "output_type": "execute_result"
    }
   ],
   "source": [
    "df4.loc[[\"Sharath\",\"Maruthi\"]]"
   ]
  },
  {
   "cell_type": "code",
   "execution_count": 152,
   "metadata": {},
   "outputs": [
    {
     "data": {
      "text/plain": [
       "Physics         74\n",
       "Biology         80\n",
       "Mathematics     75\n",
       "English         73\n",
       "Telugu          98\n",
       "Total          400\n",
       "Name: Nitish, dtype: int32"
      ]
     },
     "execution_count": 152,
     "metadata": {},
     "output_type": "execute_result"
    }
   ],
   "source": [
    "df4.iloc[0]"
   ]
  },
  {
   "cell_type": "code",
   "execution_count": 153,
   "metadata": {},
   "outputs": [
    {
     "data": {
      "text/html": [
       "<div>\n",
       "<style scoped>\n",
       "    .dataframe tbody tr th:only-of-type {\n",
       "        vertical-align: middle;\n",
       "    }\n",
       "\n",
       "    .dataframe tbody tr th {\n",
       "        vertical-align: top;\n",
       "    }\n",
       "\n",
       "    .dataframe thead th {\n",
       "        text-align: right;\n",
       "    }\n",
       "</style>\n",
       "<table border=\"1\" class=\"dataframe\">\n",
       "  <thead>\n",
       "    <tr style=\"text-align: right;\">\n",
       "      <th></th>\n",
       "      <th>Physics</th>\n",
       "      <th>Biology</th>\n",
       "      <th>Mathematics</th>\n",
       "      <th>English</th>\n",
       "      <th>Telugu</th>\n",
       "      <th>Total</th>\n",
       "    </tr>\n",
       "    <tr>\n",
       "      <th>Name</th>\n",
       "      <th></th>\n",
       "      <th></th>\n",
       "      <th></th>\n",
       "      <th></th>\n",
       "      <th></th>\n",
       "      <th></th>\n",
       "    </tr>\n",
       "  </thead>\n",
       "  <tbody>\n",
       "    <tr>\n",
       "      <th>Bubby</th>\n",
       "      <td>79</td>\n",
       "      <td>91</td>\n",
       "      <td>74</td>\n",
       "      <td>80</td>\n",
       "      <td>97</td>\n",
       "      <td>421</td>\n",
       "    </tr>\n",
       "    <tr>\n",
       "      <th>Harsha</th>\n",
       "      <td>98</td>\n",
       "      <td>92</td>\n",
       "      <td>81</td>\n",
       "      <td>92</td>\n",
       "      <td>85</td>\n",
       "      <td>448</td>\n",
       "    </tr>\n",
       "  </tbody>\n",
       "</table>\n",
       "</div>"
      ],
      "text/plain": [
       "        Physics  Biology  Mathematics  English  Telugu  Total\n",
       "Name                                                         \n",
       "Bubby        79       91           74       80      97    421\n",
       "Harsha       98       92           81       92      85    448"
      ]
     },
     "execution_count": 153,
     "metadata": {},
     "output_type": "execute_result"
    }
   ],
   "source": [
    "df4.loc[[\"Bubby\",\"Harsha\"]]"
   ]
  },
  {
   "cell_type": "code",
   "execution_count": 156,
   "metadata": {},
   "outputs": [
    {
     "data": {
      "text/html": [
       "<div>\n",
       "<style scoped>\n",
       "    .dataframe tbody tr th:only-of-type {\n",
       "        vertical-align: middle;\n",
       "    }\n",
       "\n",
       "    .dataframe tbody tr th {\n",
       "        vertical-align: top;\n",
       "    }\n",
       "\n",
       "    .dataframe thead th {\n",
       "        text-align: right;\n",
       "    }\n",
       "</style>\n",
       "<table border=\"1\" class=\"dataframe\">\n",
       "  <thead>\n",
       "    <tr style=\"text-align: right;\">\n",
       "      <th></th>\n",
       "      <th>p1</th>\n",
       "      <th>p2</th>\n",
       "    </tr>\n",
       "  </thead>\n",
       "  <tbody>\n",
       "    <tr>\n",
       "      <th>0</th>\n",
       "      <td>a</td>\n",
       "      <td>0</td>\n",
       "    </tr>\n",
       "    <tr>\n",
       "      <th>1</th>\n",
       "      <td>b</td>\n",
       "      <td>1</td>\n",
       "    </tr>\n",
       "  </tbody>\n",
       "</table>\n",
       "</div>"
      ],
      "text/plain": [
       "  p1  p2\n",
       "0  a   0\n",
       "1  b   1"
      ]
     },
     "execution_count": 156,
     "metadata": {},
     "output_type": "execute_result"
    }
   ],
   "source": [
    "p1 = ['a','b']\n",
    "p2 = [0,1]\n",
    "d1 = {\"p1\":p1, \"p2\":p2}\n",
    "df_d1 = pd.DataFrame(d1)\n",
    "df_d1"
   ]
  },
  {
   "cell_type": "code",
   "execution_count": 163,
   "metadata": {},
   "outputs": [
    {
     "data": {
      "text/html": [
       "<div>\n",
       "<style scoped>\n",
       "    .dataframe tbody tr th:only-of-type {\n",
       "        vertical-align: middle;\n",
       "    }\n",
       "\n",
       "    .dataframe tbody tr th {\n",
       "        vertical-align: top;\n",
       "    }\n",
       "\n",
       "    .dataframe thead th {\n",
       "        text-align: right;\n",
       "    }\n",
       "</style>\n",
       "<table border=\"1\" class=\"dataframe\">\n",
       "  <thead>\n",
       "    <tr style=\"text-align: right;\">\n",
       "      <th></th>\n",
       "      <th>p1</th>\n",
       "      <th>p2</th>\n",
       "      <th>p3</th>\n",
       "    </tr>\n",
       "  </thead>\n",
       "  <tbody>\n",
       "    <tr>\n",
       "      <th>0</th>\n",
       "      <td>b</td>\n",
       "      <td>2</td>\n",
       "      <td>ab</td>\n",
       "    </tr>\n",
       "    <tr>\n",
       "      <th>1</th>\n",
       "      <td>c</td>\n",
       "      <td>3</td>\n",
       "      <td>bc</td>\n",
       "    </tr>\n",
       "  </tbody>\n",
       "</table>\n",
       "</div>"
      ],
      "text/plain": [
       "  p1  p2  p3\n",
       "0  b   2  ab\n",
       "1  c   3  bc"
      ]
     },
     "execution_count": 163,
     "metadata": {},
     "output_type": "execute_result"
    }
   ],
   "source": [
    "p1 = ['b','c']\n",
    "p2 = [2,3]\n",
    "p3 = ['ab','bc']\n",
    "d2 = {\"p1\":p1, \"p2\":p2, \"p3\":p3}\n",
    "df_d2 = pd.DataFrame(d2)\n",
    "df_d2"
   ]
  },
  {
   "cell_type": "code",
   "execution_count": 165,
   "metadata": {},
   "outputs": [
    {
     "data": {
      "text/html": [
       "<div>\n",
       "<style scoped>\n",
       "    .dataframe tbody tr th:only-of-type {\n",
       "        vertical-align: middle;\n",
       "    }\n",
       "\n",
       "    .dataframe tbody tr th {\n",
       "        vertical-align: top;\n",
       "    }\n",
       "\n",
       "    .dataframe thead th {\n",
       "        text-align: right;\n",
       "    }\n",
       "</style>\n",
       "<table border=\"1\" class=\"dataframe\">\n",
       "  <thead>\n",
       "    <tr style=\"text-align: right;\">\n",
       "      <th></th>\n",
       "      <th>p1</th>\n",
       "      <th>p2</th>\n",
       "      <th>p3</th>\n",
       "    </tr>\n",
       "  </thead>\n",
       "  <tbody>\n",
       "    <tr>\n",
       "      <th>0</th>\n",
       "      <td>a</td>\n",
       "      <td>0</td>\n",
       "      <td>NaN</td>\n",
       "    </tr>\n",
       "    <tr>\n",
       "      <th>1</th>\n",
       "      <td>b</td>\n",
       "      <td>1</td>\n",
       "      <td>NaN</td>\n",
       "    </tr>\n",
       "    <tr>\n",
       "      <th>0</th>\n",
       "      <td>b</td>\n",
       "      <td>2</td>\n",
       "      <td>ab</td>\n",
       "    </tr>\n",
       "    <tr>\n",
       "      <th>1</th>\n",
       "      <td>c</td>\n",
       "      <td>3</td>\n",
       "      <td>bc</td>\n",
       "    </tr>\n",
       "  </tbody>\n",
       "</table>\n",
       "</div>"
      ],
      "text/plain": [
       "  p1  p2   p3\n",
       "0  a   0  NaN\n",
       "1  b   1  NaN\n",
       "0  b   2   ab\n",
       "1  c   3   bc"
      ]
     },
     "execution_count": 165,
     "metadata": {},
     "output_type": "execute_result"
    }
   ],
   "source": [
    "pd.concat([df_d1,df_d2],axis = 0)"
   ]
  },
  {
   "cell_type": "code",
   "execution_count": 169,
   "metadata": {},
   "outputs": [
    {
     "data": {
      "text/html": [
       "<div>\n",
       "<style scoped>\n",
       "    .dataframe tbody tr th:only-of-type {\n",
       "        vertical-align: middle;\n",
       "    }\n",
       "\n",
       "    .dataframe tbody tr th {\n",
       "        vertical-align: top;\n",
       "    }\n",
       "\n",
       "    .dataframe thead th {\n",
       "        text-align: right;\n",
       "    }\n",
       "</style>\n",
       "<table border=\"1\" class=\"dataframe\">\n",
       "  <thead>\n",
       "    <tr style=\"text-align: right;\">\n",
       "      <th></th>\n",
       "      <th>p1</th>\n",
       "      <th>p2</th>\n",
       "      <th>p3</th>\n",
       "    </tr>\n",
       "  </thead>\n",
       "  <tbody>\n",
       "    <tr>\n",
       "      <th>0</th>\n",
       "      <td>a</td>\n",
       "      <td>0</td>\n",
       "      <td>NaN</td>\n",
       "    </tr>\n",
       "    <tr>\n",
       "      <th>1</th>\n",
       "      <td>b</td>\n",
       "      <td>1</td>\n",
       "      <td>NaN</td>\n",
       "    </tr>\n",
       "    <tr>\n",
       "      <th>2</th>\n",
       "      <td>b</td>\n",
       "      <td>2</td>\n",
       "      <td>ab</td>\n",
       "    </tr>\n",
       "    <tr>\n",
       "      <th>3</th>\n",
       "      <td>c</td>\n",
       "      <td>3</td>\n",
       "      <td>bc</td>\n",
       "    </tr>\n",
       "  </tbody>\n",
       "</table>\n",
       "</div>"
      ],
      "text/plain": [
       "  p1  p2   p3\n",
       "0  a   0  NaN\n",
       "1  b   1  NaN\n",
       "2  b   2   ab\n",
       "3  c   3   bc"
      ]
     },
     "execution_count": 169,
     "metadata": {},
     "output_type": "execute_result"
    }
   ],
   "source": [
    "pd.concat([df_d1,df_d2],axis = 0, ignore_index = True)"
   ]
  },
  {
   "cell_type": "code",
   "execution_count": 170,
   "metadata": {},
   "outputs": [
    {
     "data": {
      "text/html": [
       "<div>\n",
       "<style scoped>\n",
       "    .dataframe tbody tr th:only-of-type {\n",
       "        vertical-align: middle;\n",
       "    }\n",
       "\n",
       "    .dataframe tbody tr th {\n",
       "        vertical-align: top;\n",
       "    }\n",
       "\n",
       "    .dataframe thead th {\n",
       "        text-align: right;\n",
       "    }\n",
       "</style>\n",
       "<table border=\"1\" class=\"dataframe\">\n",
       "  <thead>\n",
       "    <tr style=\"text-align: right;\">\n",
       "      <th></th>\n",
       "      <th>Date</th>\n",
       "      <th>State</th>\n",
       "      <th>TotalSamples</th>\n",
       "      <th>Negative</th>\n",
       "      <th>Positive</th>\n",
       "    </tr>\n",
       "  </thead>\n",
       "  <tbody>\n",
       "    <tr>\n",
       "      <th>0</th>\n",
       "      <td>4/17/2020</td>\n",
       "      <td>Andaman and Nicobar Islands</td>\n",
       "      <td>1403</td>\n",
       "      <td>1210</td>\n",
       "      <td>12.0</td>\n",
       "    </tr>\n",
       "    <tr>\n",
       "      <th>1</th>\n",
       "      <td>4/24/2020</td>\n",
       "      <td>Andaman and Nicobar Islands</td>\n",
       "      <td>2679</td>\n",
       "      <td>NaN</td>\n",
       "      <td>27.0</td>\n",
       "    </tr>\n",
       "    <tr>\n",
       "      <th>2</th>\n",
       "      <td>4/27/2020</td>\n",
       "      <td>Andaman and Nicobar Islands</td>\n",
       "      <td>2848</td>\n",
       "      <td>NaN</td>\n",
       "      <td>33.0</td>\n",
       "    </tr>\n",
       "    <tr>\n",
       "      <th>3</th>\n",
       "      <td>5/1/2020</td>\n",
       "      <td>Andaman and Nicobar Islands</td>\n",
       "      <td>3754</td>\n",
       "      <td>NaN</td>\n",
       "      <td>33.0</td>\n",
       "    </tr>\n",
       "    <tr>\n",
       "      <th>4</th>\n",
       "      <td>5/16/2020</td>\n",
       "      <td>Andaman and Nicobar Islands</td>\n",
       "      <td>6677</td>\n",
       "      <td>NaN</td>\n",
       "      <td>33.0</td>\n",
       "    </tr>\n",
       "    <tr>\n",
       "      <th>...</th>\n",
       "      <td>...</td>\n",
       "      <td>...</td>\n",
       "      <td>...</td>\n",
       "      <td>...</td>\n",
       "      <td>...</td>\n",
       "    </tr>\n",
       "    <tr>\n",
       "      <th>6651</th>\n",
       "      <td>10/22/2020</td>\n",
       "      <td>West Bengal</td>\n",
       "      <td>4166495</td>\n",
       "      <td>NaN</td>\n",
       "      <td>NaN</td>\n",
       "    </tr>\n",
       "    <tr>\n",
       "      <th>6652</th>\n",
       "      <td>10/23/2020</td>\n",
       "      <td>West Bengal</td>\n",
       "      <td>4211077</td>\n",
       "      <td>NaN</td>\n",
       "      <td>NaN</td>\n",
       "    </tr>\n",
       "    <tr>\n",
       "      <th>6653</th>\n",
       "      <td>10/24/2020</td>\n",
       "      <td>West Bengal</td>\n",
       "      <td>4255801</td>\n",
       "      <td>NaN</td>\n",
       "      <td>NaN</td>\n",
       "    </tr>\n",
       "    <tr>\n",
       "      <th>6654</th>\n",
       "      <td>10/25/2020</td>\n",
       "      <td>West Bengal</td>\n",
       "      <td>4298339</td>\n",
       "      <td>NaN</td>\n",
       "      <td>NaN</td>\n",
       "    </tr>\n",
       "    <tr>\n",
       "      <th>6655</th>\n",
       "      <td>10/26/2020</td>\n",
       "      <td>West Bengal</td>\n",
       "      <td>4340570</td>\n",
       "      <td>NaN</td>\n",
       "      <td>NaN</td>\n",
       "    </tr>\n",
       "  </tbody>\n",
       "</table>\n",
       "<p>6656 rows × 5 columns</p>\n",
       "</div>"
      ],
      "text/plain": [
       "            Date                        State  TotalSamples Negative  Positive\n",
       "0      4/17/2020  Andaman and Nicobar Islands          1403     1210      12.0\n",
       "1      4/24/2020  Andaman and Nicobar Islands          2679      NaN      27.0\n",
       "2      4/27/2020  Andaman and Nicobar Islands          2848      NaN      33.0\n",
       "3       5/1/2020  Andaman and Nicobar Islands          3754      NaN      33.0\n",
       "4      5/16/2020  Andaman and Nicobar Islands          6677      NaN      33.0\n",
       "...          ...                          ...           ...      ...       ...\n",
       "6651  10/22/2020                  West Bengal       4166495      NaN       NaN\n",
       "6652  10/23/2020                  West Bengal       4211077      NaN       NaN\n",
       "6653  10/24/2020                  West Bengal       4255801      NaN       NaN\n",
       "6654  10/25/2020                  West Bengal       4298339      NaN       NaN\n",
       "6655  10/26/2020                  West Bengal       4340570      NaN       NaN\n",
       "\n",
       "[6656 rows x 5 columns]"
      ]
     },
     "execution_count": 170,
     "metadata": {},
     "output_type": "execute_result"
    }
   ],
   "source": [
    "marks_df"
   ]
  },
  {
   "cell_type": "code",
   "execution_count": 171,
   "metadata": {},
   "outputs": [
    {
     "data": {
      "text/plain": [
       "0       Andaman and Nicobar Islands\n",
       "1       Andaman and Nicobar Islands\n",
       "2       Andaman and Nicobar Islands\n",
       "3       Andaman and Nicobar Islands\n",
       "4       Andaman and Nicobar Islands\n",
       "                   ...             \n",
       "6651                    West Bengal\n",
       "6652                    West Bengal\n",
       "6653                    West Bengal\n",
       "6654                    West Bengal\n",
       "6655                    West Bengal\n",
       "Name: State, Length: 6656, dtype: object"
      ]
     },
     "execution_count": 171,
     "metadata": {},
     "output_type": "execute_result"
    }
   ],
   "source": [
    "marks_df[\"State\"]"
   ]
  },
  {
   "cell_type": "code",
   "execution_count": 173,
   "metadata": {},
   "outputs": [
    {
     "data": {
      "text/plain": [
       "0       12.0\n",
       "1       27.0\n",
       "2       33.0\n",
       "3       33.0\n",
       "4       33.0\n",
       "        ... \n",
       "6651     NaN\n",
       "6652     NaN\n",
       "6653     NaN\n",
       "6654     NaN\n",
       "6655     NaN\n",
       "Name: Positive, Length: 6656, dtype: float64"
      ]
     },
     "execution_count": 173,
     "metadata": {},
     "output_type": "execute_result"
    }
   ],
   "source": [
    "State = marks_df[\"State\"]\n",
    "Count = marks_df[\"Positive\"]\n",
    "State\n",
    "Count"
   ]
  },
  {
   "cell_type": "code",
   "execution_count": null,
   "metadata": {},
   "outputs": [],
   "source": []
  }
 ],
 "metadata": {
  "kernelspec": {
   "display_name": "Python 3",
   "language": "python",
   "name": "python3"
  },
  "language_info": {
   "codemirror_mode": {
    "name": "ipython",
    "version": 3
   },
   "file_extension": ".py",
   "mimetype": "text/x-python",
   "name": "python",
   "nbconvert_exporter": "python",
   "pygments_lexer": "ipython3",
   "version": "3.8.3"
  }
 },
 "nbformat": 4,
 "nbformat_minor": 4
}
