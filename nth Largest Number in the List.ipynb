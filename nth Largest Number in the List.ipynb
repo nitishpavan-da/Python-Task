{
 "cells": [
  {
   "cell_type": "code",
   "execution_count": 3,
   "metadata": {},
   "outputs": [
    {
     "name": "stdout",
     "output_type": "stream",
     "text": [
      "Enter which largest number you want to see? - 2\n",
      "[325525352532, 3432523, 1424245, 353353, 45223, 34324, 2432, 2242, 33, 3, 0]\n",
      "The 2 largest number in the list is 3432523 \n"
     ]
    }
   ],
   "source": [
    "L1 = [3432523,45223,2242,1424245,353353,325525352532,33,3,2432,34324,0]\n",
    "size = len(L1)\n",
    "user_input = int(input(\"Enter which largest number you want to see? - \"))\n",
    "def nth_Largest(user_input):\n",
    "    L1.sort(reverse = True)\n",
    "    print(L1)\n",
    "    if(user_input == user_input):\n",
    "        print(\"The {} largest number in the list is {} \".format(user_input,L1[user_input - 1]))\n",
    "\n",
    "nth_Largest(user_input)"
   ]
  },
  {
   "cell_type": "code",
   "execution_count": null,
   "metadata": {},
   "outputs": [],
   "source": []
  }
 ],
 "metadata": {
  "kernelspec": {
   "display_name": "Python 3",
   "language": "python",
   "name": "python3"
  },
  "language_info": {
   "codemirror_mode": {
    "name": "ipython",
    "version": 3
   },
   "file_extension": ".py",
   "mimetype": "text/x-python",
   "name": "python",
   "nbconvert_exporter": "python",
   "pygments_lexer": "ipython3",
   "version": "3.8.3"
  }
 },
 "nbformat": 4,
 "nbformat_minor": 4
}
