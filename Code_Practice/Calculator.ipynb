{
 "cells": [
  {
   "cell_type": "code",
   "execution_count": 11,
   "metadata": {
    "scrolled": false
   },
   "outputs": [
    {
     "name": "stdout",
     "output_type": "stream",
     "text": [
      "Start of Calculator Operation\n",
      "Enter any number? /d/\n",
      "Please provide appropriate inputs\n",
      "End of Calculator operation\n"
     ]
    }
   ],
   "source": [
    "import math\n",
    "\n",
    "print(\"Start of Calculator Operation\")\n",
    "\n",
    "try:\n",
    "    inp1 = int(input(\"Enter any number? \"))\n",
    "    inp2 = int(input(\"Enter a second number? \"))\n",
    "    cal = input(\"Enter any operation? \") \n",
    "    def calculator(inp1,inp2,cal):\n",
    "        if(cal == '+'):\n",
    "            Sum = inp1 + inp2\n",
    "            print(\"Sum of {} and {} is {} \".format(inp1,inp2,Sum))\n",
    "        elif(cal == '-'):\n",
    "            Diff = inp1 - inp2\n",
    "            print(\"Difference of {} and {} is {} \".format(inp1,inp2,Diff))\n",
    "        elif(cal == '*'):\n",
    "            Product = inp1 * inp2\n",
    "            print(\"Product of {} and {} is {} \".format(inp1,inp2,Product))\n",
    "        elif(cal == '//'):\n",
    "            Division = inp1//inp2\n",
    "            print(\"Division of {} and {} is {} \".format(inp1,inp2,Division))\n",
    "        elif(cal == 'sin'):\n",
    "            Trignometric_Func = math.sin(inp1) + math.sin(inp2)\n",
    "            print(\"Sine value of {} and {} is {} \".format(inp1,inp2,Trignometric_Func))\n",
    "\n",
    "    calculator(inp1,inp2,cal)\n",
    "            \n",
    "except ValueError:\n",
    "    print(\"Please provide appropriate inputs\")\n",
    "\n",
    "except NameError:\n",
    "    print(\"Please enter Numeric Data\")\n",
    "\n",
    "else:\n",
    "    print(\"Code executed Successfully\")\n",
    "\n",
    "finally:\n",
    "    print(\"End of Calculator operation\")"
   ]
  },
  {
   "cell_type": "code",
   "execution_count": null,
   "metadata": {},
   "outputs": [],
   "source": []
  }
 ],
 "metadata": {
  "kernelspec": {
   "display_name": "Python 3",
   "language": "python",
   "name": "python3"
  },
  "language_info": {
   "codemirror_mode": {
    "name": "ipython",
    "version": 3
   },
   "file_extension": ".py",
   "mimetype": "text/x-python",
   "name": "python",
   "nbconvert_exporter": "python",
   "pygments_lexer": "ipython3",
   "version": "3.8.3"
  }
 },
 "nbformat": 4,
 "nbformat_minor": 4
}
