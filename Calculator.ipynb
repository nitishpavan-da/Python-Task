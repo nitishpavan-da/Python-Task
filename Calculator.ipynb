{
 "cells": [
  {
   "cell_type": "code",
   "execution_count": 22,
   "metadata": {
    "scrolled": false
   },
   "outputs": [
    {
     "name": "stdout",
     "output_type": "stream",
     "text": [
      "Start of Calculator Operation\n",
      "Enter any number? 123\n",
      "Enter a second number? 11\n",
      "Enter any operation? //\n",
      "Code executed Successfully\n",
      "End of Calculator operation\n"
     ]
    },
    {
     "data": {
      "text/plain": [
       "11"
      ]
     },
     "execution_count": 22,
     "metadata": {},
     "output_type": "execute_result"
    }
   ],
   "source": [
    "import math\n",
    "\n",
    "print(\"Start of Calculator Operation\")\n",
    "\n",
    "try:\n",
    "    inp1 = int(input(\"Enter any number? \"))\n",
    "    inp2 = int(input(\"Enter a second number? \"))\n",
    "    cal = input(\"Enter any operation? \") \n",
    "    def calculator(inp1,inp2,cal):\n",
    "        if(cal == '+'):\n",
    "            return inp1 + inp2\n",
    "        elif(cal == '-'):\n",
    "            return inp1 - inp2\n",
    "        elif(cal == '*'):\n",
    "            return inp1 * inp2\n",
    "        elif(cal == '//'):\n",
    "            return inp1//inp2\n",
    "        elif(cal == 'sin'):\n",
    "            return math.sin(inp1) + math.sin(inp2)\n",
    "\n",
    "except ValueError:\n",
    "    print(\"Please provide the inputs\")\n",
    "\n",
    "else:\n",
    "    print(\"Code executed Successfully\")\n",
    "\n",
    "finally:\n",
    "    print(\"End of Calculator operation\")\n",
    "\n",
    "calculator(inp1,inp2,cal)"
   ]
  },
  {
   "cell_type": "code",
   "execution_count": null,
   "metadata": {},
   "outputs": [],
   "source": []
  }
 ],
 "metadata": {
  "kernelspec": {
   "display_name": "Python 3",
   "language": "python",
   "name": "python3"
  },
  "language_info": {
   "codemirror_mode": {
    "name": "ipython",
    "version": 3
   },
   "file_extension": ".py",
   "mimetype": "text/x-python",
   "name": "python",
   "nbconvert_exporter": "python",
   "pygments_lexer": "ipython3",
   "version": "3.8.3"
  }
 },
 "nbformat": 4,
 "nbformat_minor": 4
}
