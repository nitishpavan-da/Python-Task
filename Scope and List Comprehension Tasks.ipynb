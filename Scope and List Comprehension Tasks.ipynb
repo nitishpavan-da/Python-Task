{
 "cells": [
  {
   "cell_type": "code",
   "execution_count": 11,
   "metadata": {},
   "outputs": [],
   "source": [
    "str1 = \"Python\"\n",
    "\n",
    "list1 = [char for char in str1]"
   ]
  },
  {
   "cell_type": "code",
   "execution_count": 12,
   "metadata": {},
   "outputs": [
    {
     "data": {
      "text/plain": [
       "['P', 'y', 't', 'h', 'o', 'n']"
      ]
     },
     "execution_count": 12,
     "metadata": {},
     "output_type": "execute_result"
    }
   ],
   "source": [
    "list1"
   ]
  },
  {
   "cell_type": "code",
   "execution_count": 13,
   "metadata": {},
   "outputs": [
    {
     "data": {
      "text/plain": [
       "[0, 1, 8, 27, 64, 125, 216, 343]"
      ]
     },
     "execution_count": 13,
     "metadata": {},
     "output_type": "execute_result"
    }
   ],
   "source": [
    "list2 = [num**3 for num in range(8)]\n",
    "list2"
   ]
  },
  {
   "cell_type": "code",
   "execution_count": null,
   "metadata": {},
   "outputs": [],
   "source": []
  },
  {
   "cell_type": "code",
   "execution_count": null,
   "metadata": {},
   "outputs": [],
   "source": [
    "#Local Variable Scope"
   ]
  },
  {
   "cell_type": "code",
   "execution_count": 22,
   "metadata": {},
   "outputs": [
    {
     "name": "stdout",
     "output_type": "stream",
     "text": [
      "sum of 100 and 200 is 300\n"
     ]
    }
   ],
   "source": [
    "def sum():\n",
    "    x = 100\n",
    "    y = 200\n",
    "    sum = x + y\n",
    "    print(\"sum of {} and {} is {}\".format(x,y,sum))\n",
    "\n",
    "sum()"
   ]
  },
  {
   "cell_type": "code",
   "execution_count": null,
   "metadata": {},
   "outputs": [],
   "source": []
  },
  {
   "cell_type": "code",
   "execution_count": null,
   "metadata": {},
   "outputs": [],
   "source": [
    "#Enclosed Variable Scope"
   ]
  },
  {
   "cell_type": "code",
   "execution_count": 24,
   "metadata": {},
   "outputs": [
    {
     "name": "stdout",
     "output_type": "stream",
     "text": [
      "Enter a number? 14\n",
      "Number entered is 14 \n",
      "Enter another number? 2\n",
      "Number entered is 2\n",
      "Product of 14 and 2 is 28\n"
     ]
    }
   ],
   "source": [
    "def outer_func():\n",
    "    num1 = int(input(\"Enter a number? \"))\n",
    "    print(\"Number entered is {} \".format(num1))\n",
    "    def inner_func():\n",
    "        num2 = int(input(\"Enter another number? \"))\n",
    "        print(\"Number entered is {}\".format(num2))\n",
    "        def inner_sub_func():\n",
    "            product = num1 * num2\n",
    "            print(\"Product of {} and {} is {}\".format(num1,num2,product))\n",
    "        inner_sub_func()\n",
    "    inner_func()\n",
    "outer_func()"
   ]
  },
  {
   "cell_type": "code",
   "execution_count": null,
   "metadata": {},
   "outputs": [],
   "source": []
  },
  {
   "cell_type": "code",
   "execution_count": null,
   "metadata": {},
   "outputs": [],
   "source": [
    "#Global Variable Scope"
   ]
  },
  {
   "cell_type": "code",
   "execution_count": 23,
   "metadata": {},
   "outputs": [
    {
     "name": "stdout",
     "output_type": "stream",
     "text": [
      "Enter a number? 12\n",
      "Number entered is 12 \n",
      "Enter another number? 2\n",
      "Number entered is 2\n",
      "Product of 12 and 2 is 24\n",
      "Division of 24 and 12 is 2.0\n"
     ]
    }
   ],
   "source": [
    "num3 = 12\n",
    "def outer_func():\n",
    "    num1 = int(input(\"Enter a number? \"))\n",
    "    print(\"Number entered is {} \".format(num1))\n",
    "    def inner_func():\n",
    "        num2 = int(input(\"Enter another number? \"))\n",
    "        print(\"Number entered is {}\".format(num2))\n",
    "        def inner_sub_func():\n",
    "            product = num1 * num2\n",
    "            print(\"Product of {} and {} is {}\".format(num1,num2,product))\n",
    "            def internal_div_func():\n",
    "                division = product/num3\n",
    "                print(\"Division of {} and {} is {}\".format(product,num3,division))\n",
    "            internal_div_func()\n",
    "        inner_sub_func()\n",
    "    inner_func()\n",
    "outer_func()"
   ]
  },
  {
   "cell_type": "code",
   "execution_count": null,
   "metadata": {},
   "outputs": [],
   "source": []
  }
 ],
 "metadata": {
  "kernelspec": {
   "display_name": "Python 3",
   "language": "python",
   "name": "python3"
  },
  "language_info": {
   "codemirror_mode": {
    "name": "ipython",
    "version": 3
   },
   "file_extension": ".py",
   "mimetype": "text/x-python",
   "name": "python",
   "nbconvert_exporter": "python",
   "pygments_lexer": "ipython3",
   "version": "3.8.3"
  }
 },
 "nbformat": 4,
 "nbformat_minor": 4
}
