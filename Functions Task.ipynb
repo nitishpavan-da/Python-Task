{
 "cells": [
  {
   "cell_type": "code",
   "execution_count": 11,
   "metadata": {},
   "outputs": [
    {
     "name": "stdout",
     "output_type": "stream",
     "text": [
      "Enter the first number 100\n",
      "Enter the second number 10\n",
      "Enter the operator 4\n",
      "Division of 100 and 10 is 10.0\n"
     ]
    }
   ],
   "source": [
    "num1 = int(input(\"Enter the first number \"))\n",
    "num2 = int(input(\"Enter the second number \"))\n",
    "operator = int(input(\"Enter the operator \"))\n",
    "\n",
    "if(operator == 1):\n",
    "    sum()\n",
    "\n",
    "if(operator == 2):\n",
    "    difference()\n",
    "\n",
    "if(operator == 3):\n",
    "    product()\n",
    "\n",
    "if(operator == 4):\n",
    "    division()\n",
    "\n",
    "def sum():\n",
    "    Sum = num1 + num2\n",
    "    print(\"Sum of {} and {} is {}\".format(num1,num2,Sum))\n",
    "\n",
    "def difference():\n",
    "    Difference = num1 - num2\n",
    "    print(\"Difference of {} and {} is {}\".format(num1,num2,Difference))\n",
    "\n",
    "def product():\n",
    "    Product = num1 * num2\n",
    "    print(\"Product of {} and {} is {}\".format(num1,num2,Product))\n",
    "\n",
    "def division():\n",
    "    Division = num1 / num2\n",
    "    print(\"Division of {} and {} is {}\".format(num1,num2,Division))"
   ]
  },
  {
   "cell_type": "code",
   "execution_count": null,
   "metadata": {},
   "outputs": [],
   "source": []
  }
 ],
 "metadata": {
  "kernelspec": {
   "display_name": "Python 3",
   "language": "python",
   "name": "python3"
  },
  "language_info": {
   "codemirror_mode": {
    "name": "ipython",
    "version": 3
   },
   "file_extension": ".py",
   "mimetype": "text/x-python",
   "name": "python",
   "nbconvert_exporter": "python",
   "pygments_lexer": "ipython3",
   "version": "3.8.3"
  }
 },
 "nbformat": 4,
 "nbformat_minor": 4
}
