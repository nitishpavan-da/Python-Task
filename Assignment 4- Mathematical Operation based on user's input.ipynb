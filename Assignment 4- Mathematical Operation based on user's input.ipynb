{
 "cells": [
  {
   "cell_type": "code",
   "execution_count": null,
   "metadata": {},
   "outputs": [],
   "source": [
    "#Task- 9: Mathematical operations based on the User's input:"
   ]
  },
  {
   "cell_type": "code",
   "execution_count": null,
   "metadata": {},
   "outputs": [],
   "source": [
    "num1 = int(input(\"Enter a number? \"))\n",
    "num2 = int(input(\"Enter another number? \"))\n",
    "num_pressed = int(input(\"Enter a number for Mathematical Operation? \"))\n",
    "if(num_pressed == 1):\n",
    "    Sum = num1 + num2\n",
    "    print(\"Summation of {} and {} is {} \".format(num1,num2,Sum))\n",
    "elif(num_pressed == 2):\n",
    "    Subtraction = num1 - num2\n",
    "    print(\"Difference between {} and {} is {} \".format(num1,num2,Subtraction))\n",
    "elif(num_pressed == 3):\n",
    "    Product = num1 * num2\n",
    "    print(\"Product of {} and {} is {} \".format(num1,num2,Product))\n",
    "elif(num_pressed == 4):\n",
    "    Division = num1/num2\n",
    "    print(\"Division of {} and {} is {} \".format(num1,num2,Division))"
   ]
  }
 ],
 "metadata": {
  "kernelspec": {
   "display_name": "Python 3",
   "language": "python",
   "name": "python3"
  },
  "language_info": {
   "codemirror_mode": {
    "name": "ipython",
    "version": 3
   },
   "file_extension": ".py",
   "mimetype": "text/x-python",
   "name": "python",
   "nbconvert_exporter": "python",
   "pygments_lexer": "ipython3",
   "version": "3.8.3"
  }
 },
 "nbformat": 4,
 "nbformat_minor": 4
}
