{
 "cells": [
  {
   "cell_type": "markdown",
   "metadata": {},
   "source": [
    "# Rolls Royce Holdings London Stock Market Dataset"
   ]
  },
  {
   "cell_type": "markdown",
   "metadata": {},
   "source": [
    "Rolls-Royce Holdings PLC is a United Kingdom-based engineering company. The Company is focused on power and propulsion systems. Its segments include Civil Aerospace, which is engaged in the development, manufacture, marketing and sales of commercial aero engines and aftermarket services; Defence Aerospace, which is engaged in the development, manufacture, marketing and sales of military aero engines and aftermarket services, and caters to sectors, including combat aircraft, trainer aircraft and helicopters; Power Systems, which is engaged in the development, manufacture, marketing and sales of reciprocating engines and power systems. Power Systems provides power solutions and complete life-cycle support under product and solution brand MTU systems.\n",
    "\n",
    "This Dataset is a Stock Market Dataset Dated 1st January, 2016 to the current day (6th January 2021).\n",
    "Machine Learning Algorithm XGBoosting has been applied as a Regressor problem in order to forecast what could be the Stock Market Closing Price in a longer run."
   ]
  },
  {
   "attachments": {
    "a22d9dba-71d7-49d3-8c6a-c8dba35e25c7.jpg": {
     "image/jpeg": "[encoded data removed]"
    }
   },
   "cell_type": "markdown",
   "metadata": {},
   "source": [
    "![a22d9dba-71d7-49d3-8c6a-c8dba35e25c7.jpg](attachment:a22d9dba-71d7-49d3-8c6a-c8dba35e25c7.jpg)"
   ]
  },
  {
   "cell_type": "markdown",
   "metadata": {},
   "source": [
    "# Importing Libraries and Dataset"
   ]
  },
  {
   "cell_type": "code",
   "execution_count": 1,
   "metadata": {},
   "outputs": [],
   "source": [
    "import numpy as np\n",
    "import pandas as pd\n",
    "import matplotlib.pyplot as plt\n",
    "import seaborn as sns"
   ]
  },
  {
   "cell_type": "code",
   "execution_count": 2,
   "metadata": {
    "scrolled": true
   },
   "outputs": [
    {
     "data": {
      "text/html": [
       "<div>\n",
       "<style scoped>\n",
       "    .dataframe tbody tr th:only-of-type {\n",
       "        vertical-align: middle;\n",
       "    }\n",
       "\n",
       "    .dataframe tbody tr th {\n",
       "        vertical-align: top;\n",
       "    }\n",
       "\n",
       "    .dataframe thead th {\n",
       "        text-align: right;\n",
       "    }\n",
       "</style>\n",
       "<table border=\"1\" class=\"dataframe\">\n",
       "  <thead>\n",
       "    <tr style=\"text-align: right;\">\n",
       "      <th></th>\n",
       "      <th>Date</th>\n",
       "      <th>Price</th>\n",
       "      <th>Open</th>\n",
       "      <th>High</th>\n",
       "      <th>Low</th>\n",
       "      <th>Volume(M)</th>\n",
       "      <th>Chg%</th>\n",
       "    </tr>\n",
       "  </thead>\n",
       "  <tbody>\n",
       "    <tr>\n",
       "      <th>0</th>\n",
       "      <td>1/4/2016</td>\n",
       "      <td>560</td>\n",
       "      <td>565.5</td>\n",
       "      <td>569.2</td>\n",
       "      <td>558</td>\n",
       "      <td>4.25M</td>\n",
       "      <td>-2.61%</td>\n",
       "    </tr>\n",
       "    <tr>\n",
       "      <th>1</th>\n",
       "      <td>1/5/2016</td>\n",
       "      <td>564.5</td>\n",
       "      <td>563.5</td>\n",
       "      <td>569.2</td>\n",
       "      <td>556</td>\n",
       "      <td>3.97M</td>\n",
       "      <td>0.80%</td>\n",
       "    </tr>\n",
       "    <tr>\n",
       "      <th>2</th>\n",
       "      <td>1/6/2016</td>\n",
       "      <td>560</td>\n",
       "      <td>564</td>\n",
       "      <td>568</td>\n",
       "      <td>554.8</td>\n",
       "      <td>4.07M</td>\n",
       "      <td>-0.80%</td>\n",
       "    </tr>\n",
       "    <tr>\n",
       "      <th>3</th>\n",
       "      <td>1/7/2016</td>\n",
       "      <td>546</td>\n",
       "      <td>544</td>\n",
       "      <td>548.5</td>\n",
       "      <td>541</td>\n",
       "      <td>7.60M</td>\n",
       "      <td>-2.50%</td>\n",
       "    </tr>\n",
       "    <tr>\n",
       "      <th>4</th>\n",
       "      <td>1/8/2016</td>\n",
       "      <td>559.5</td>\n",
       "      <td>550</td>\n",
       "      <td>564</td>\n",
       "      <td>547</td>\n",
       "      <td>11.41M</td>\n",
       "      <td>2.47%</td>\n",
       "    </tr>\n",
       "  </tbody>\n",
       "</table>\n",
       "</div>"
      ],
      "text/plain": [
       "       Date  Price   Open   High    Low Volume(M)    Chg%\n",
       "0  1/4/2016    560  565.5  569.2    558     4.25M  -2.61%\n",
       "1  1/5/2016  564.5  563.5  569.2    556     3.97M   0.80%\n",
       "2  1/6/2016    560    564    568  554.8     4.07M  -0.80%\n",
       "3  1/7/2016    546    544  548.5    541     7.60M  -2.50%\n",
       "4  1/8/2016  559.5    550    564    547    11.41M   2.47%"
      ]
     },
     "execution_count": 2,
     "metadata": {},
     "output_type": "execute_result"
    }
   ],
   "source": [
    "df = pd.read_csv(\"Rolls Royce Stock.csv\", encoding=\"unicode escape\")\n",
    "df.head()"
   ]
  },
  {
   "cell_type": "markdown",
   "metadata": {},
   "source": [
    "# Cleaning the Data"
   ]
  },
  {
   "cell_type": "code",
   "execution_count": 3,
   "metadata": {},
   "outputs": [],
   "source": [
    "df[\"Volume(M)\"] = df[\"Volume(M)\"].replace({\"M\": \"\"}, regex=True)"
   ]
  },
  {
   "cell_type": "code",
   "execution_count": 4,
   "metadata": {},
   "outputs": [
    {
     "data": {
      "text/html": [
       "<div>\n",
       "<style scoped>\n",
       "    .dataframe tbody tr th:only-of-type {\n",
       "        vertical-align: middle;\n",
       "    }\n",
       "\n",
       "    .dataframe tbody tr th {\n",
       "        vertical-align: top;\n",
       "    }\n",
       "\n",
       "    .dataframe thead th {\n",
       "        text-align: right;\n",
       "    }\n",
       "</style>\n",
       "<table border=\"1\" class=\"dataframe\">\n",
       "  <thead>\n",
       "    <tr style=\"text-align: right;\">\n",
       "      <th></th>\n",
       "      <th>Date</th>\n",
       "      <th>Price</th>\n",
       "      <th>Open</th>\n",
       "      <th>High</th>\n",
       "      <th>Low</th>\n",
       "      <th>Volume(M)</th>\n",
       "      <th>Chg%</th>\n",
       "    </tr>\n",
       "  </thead>\n",
       "  <tbody>\n",
       "    <tr>\n",
       "      <th>0</th>\n",
       "      <td>1/4/2016</td>\n",
       "      <td>560</td>\n",
       "      <td>565.5</td>\n",
       "      <td>569.2</td>\n",
       "      <td>558</td>\n",
       "      <td>4.25</td>\n",
       "      <td>-2.61%</td>\n",
       "    </tr>\n",
       "    <tr>\n",
       "      <th>1</th>\n",
       "      <td>1/5/2016</td>\n",
       "      <td>564.5</td>\n",
       "      <td>563.5</td>\n",
       "      <td>569.2</td>\n",
       "      <td>556</td>\n",
       "      <td>3.97</td>\n",
       "      <td>0.80%</td>\n",
       "    </tr>\n",
       "    <tr>\n",
       "      <th>2</th>\n",
       "      <td>1/6/2016</td>\n",
       "      <td>560</td>\n",
       "      <td>564</td>\n",
       "      <td>568</td>\n",
       "      <td>554.8</td>\n",
       "      <td>4.07</td>\n",
       "      <td>-0.80%</td>\n",
       "    </tr>\n",
       "    <tr>\n",
       "      <th>3</th>\n",
       "      <td>1/7/2016</td>\n",
       "      <td>546</td>\n",
       "      <td>544</td>\n",
       "      <td>548.5</td>\n",
       "      <td>541</td>\n",
       "      <td>7.60</td>\n",
       "      <td>-2.50%</td>\n",
       "    </tr>\n",
       "    <tr>\n",
       "      <th>4</th>\n",
       "      <td>1/8/2016</td>\n",
       "      <td>559.5</td>\n",
       "      <td>550</td>\n",
       "      <td>564</td>\n",
       "      <td>547</td>\n",
       "      <td>11.41</td>\n",
       "      <td>2.47%</td>\n",
       "    </tr>\n",
       "  </tbody>\n",
       "</table>\n",
       "</div>"
      ],
      "text/plain": [
       "       Date  Price   Open   High    Low Volume(M)    Chg%\n",
       "0  1/4/2016    560  565.5  569.2    558      4.25  -2.61%\n",
       "1  1/5/2016  564.5  563.5  569.2    556      3.97   0.80%\n",
       "2  1/6/2016    560    564    568  554.8      4.07  -0.80%\n",
       "3  1/7/2016    546    544  548.5    541      7.60  -2.50%\n",
       "4  1/8/2016  559.5    550    564    547     11.41   2.47%"
      ]
     },
     "execution_count": 4,
     "metadata": {},
     "output_type": "execute_result"
    }
   ],
   "source": [
    "df.head()"
   ]
  },
  {
   "cell_type": "code",
   "execution_count": 5,
   "metadata": {},
   "outputs": [],
   "source": [
    "df = df.drop(\"Chg%\", axis = 1)"
   ]
  },
  {
   "cell_type": "code",
   "execution_count": 6,
   "metadata": {},
   "outputs": [],
   "source": [
    "df[\"Price\"] = df[\"Price\"].replace({\",\":\"\"}, regex = True)\n",
    "df[\"Open\"] = df[\"Open\"].replace({\",\":\"\"}, regex = True)\n",
    "df[\"High\"] = df[\"High\"].replace({\",\":\"\"}, regex = True)\n",
    "df[\"Low\"] = df[\"Low\"].replace({\",\":\"\"}, regex = True)"
   ]
  },
  {
   "cell_type": "code",
   "execution_count": 7,
   "metadata": {},
   "outputs": [],
   "source": [
    "df[\"Price\"] = df[\"Price\"].replace({\"K\":\"\"}, regex = True)\n",
    "df[\"Open\"] = df[\"Open\"].replace({\"K\":\"\"}, regex = True)\n",
    "df[\"High\"] = df[\"High\"].replace({\"K\":\"\"}, regex = True)\n",
    "df[\"Low\"] = df[\"Low\"].replace({\"K\":\"\"}, regex = True)\n",
    "df[\"Volume(M)\"] = df[\"Volume(M)\"].replace({\"K\":\"\"}, regex = True)"
   ]
  },
  {
   "cell_type": "markdown",
   "metadata": {},
   "source": [
    "# Creating Percentage Columns to understand the Change"
   ]
  },
  {
   "cell_type": "code",
   "execution_count": 8,
   "metadata": {},
   "outputs": [],
   "source": [
    "df[\"Price\"] = df[\"Price\"].astype(dtype=\"float\")\n",
    "df[\"Open\"] = df[\"Open\"].astype(dtype=\"float\")\n",
    "df[\"High\"] = df[\"High\"].astype(dtype=\"float\")\n",
    "df[\"Low\"] = df[\"Low\"].astype(dtype=\"float\")"
   ]
  },
  {
   "cell_type": "code",
   "execution_count": 9,
   "metadata": {},
   "outputs": [],
   "source": [
    "df[\"HL Perc\"] = ((df[\"High\"] - df[\"Low\"])/df[\"Low\"]) * 100\n",
    "df[\"CO Perc\"] = ((df[\"Price\"] - df[\"Open\"])/df[\"Open\"]) * 100"
   ]
  },
  {
   "cell_type": "code",
   "execution_count": 10,
   "metadata": {},
   "outputs": [
    {
     "data": {
      "text/html": [
       "<div>\n",
       "<style scoped>\n",
       "    .dataframe tbody tr th:only-of-type {\n",
       "        vertical-align: middle;\n",
       "    }\n",
       "\n",
       "    .dataframe tbody tr th {\n",
       "        vertical-align: top;\n",
       "    }\n",
       "\n",
       "    .dataframe thead th {\n",
       "        text-align: right;\n",
       "    }\n",
       "</style>\n",
       "<table border=\"1\" class=\"dataframe\">\n",
       "  <thead>\n",
       "    <tr style=\"text-align: right;\">\n",
       "      <th></th>\n",
       "      <th>Date</th>\n",
       "      <th>Price</th>\n",
       "      <th>Open</th>\n",
       "      <th>High</th>\n",
       "      <th>Low</th>\n",
       "      <th>Volume(M)</th>\n",
       "      <th>HL Perc</th>\n",
       "      <th>CO Perc</th>\n",
       "    </tr>\n",
       "  </thead>\n",
       "  <tbody>\n",
       "    <tr>\n",
       "      <th>0</th>\n",
       "      <td>1/4/2016</td>\n",
       "      <td>560.0</td>\n",
       "      <td>565.5</td>\n",
       "      <td>569.2</td>\n",
       "      <td>558.0</td>\n",
       "      <td>4.25</td>\n",
       "      <td>2.007168</td>\n",
       "      <td>-0.972591</td>\n",
       "    </tr>\n",
       "    <tr>\n",
       "      <th>1</th>\n",
       "      <td>1/5/2016</td>\n",
       "      <td>564.5</td>\n",
       "      <td>563.5</td>\n",
       "      <td>569.2</td>\n",
       "      <td>556.0</td>\n",
       "      <td>3.97</td>\n",
       "      <td>2.374101</td>\n",
       "      <td>0.177462</td>\n",
       "    </tr>\n",
       "    <tr>\n",
       "      <th>2</th>\n",
       "      <td>1/6/2016</td>\n",
       "      <td>560.0</td>\n",
       "      <td>564.0</td>\n",
       "      <td>568.0</td>\n",
       "      <td>554.8</td>\n",
       "      <td>4.07</td>\n",
       "      <td>2.379236</td>\n",
       "      <td>-0.709220</td>\n",
       "    </tr>\n",
       "    <tr>\n",
       "      <th>3</th>\n",
       "      <td>1/7/2016</td>\n",
       "      <td>546.0</td>\n",
       "      <td>544.0</td>\n",
       "      <td>548.5</td>\n",
       "      <td>541.0</td>\n",
       "      <td>7.60</td>\n",
       "      <td>1.386322</td>\n",
       "      <td>0.367647</td>\n",
       "    </tr>\n",
       "    <tr>\n",
       "      <th>4</th>\n",
       "      <td>1/8/2016</td>\n",
       "      <td>559.5</td>\n",
       "      <td>550.0</td>\n",
       "      <td>564.0</td>\n",
       "      <td>547.0</td>\n",
       "      <td>11.41</td>\n",
       "      <td>3.107861</td>\n",
       "      <td>1.727273</td>\n",
       "    </tr>\n",
       "  </tbody>\n",
       "</table>\n",
       "</div>"
      ],
      "text/plain": [
       "       Date  Price   Open   High    Low Volume(M)   HL Perc   CO Perc\n",
       "0  1/4/2016  560.0  565.5  569.2  558.0      4.25  2.007168 -0.972591\n",
       "1  1/5/2016  564.5  563.5  569.2  556.0      3.97  2.374101  0.177462\n",
       "2  1/6/2016  560.0  564.0  568.0  554.8      4.07  2.379236 -0.709220\n",
       "3  1/7/2016  546.0  544.0  548.5  541.0      7.60  1.386322  0.367647\n",
       "4  1/8/2016  559.5  550.0  564.0  547.0     11.41  3.107861  1.727273"
      ]
     },
     "execution_count": 10,
     "metadata": {},
     "output_type": "execute_result"
    }
   ],
   "source": [
    "df.head()"
   ]
  },
  {
   "cell_type": "code",
   "execution_count": 11,
   "metadata": {},
   "outputs": [],
   "source": [
    "dates = np.array(df[\"Date\"])"
   ]
  },
  {
   "cell_type": "code",
   "execution_count": 12,
   "metadata": {
    "scrolled": true
   },
   "outputs": [
    {
     "data": {
      "text/plain": [
       "array(['1/4/2016', '1/5/2016', '1/6/2016', ..., '12/31/2020', '1/4/2021',\n",
       "       '1/5/2021'], dtype=object)"
      ]
     },
     "execution_count": 12,
     "metadata": {},
     "output_type": "execute_result"
    }
   ],
   "source": [
    "dates"
   ]
  },
  {
   "cell_type": "markdown",
   "metadata": {},
   "source": [
    "# Picking up latest dates inorder to Forecast"
   ]
  },
  {
   "cell_type": "code",
   "execution_count": 13,
   "metadata": {},
   "outputs": [],
   "source": [
    "dates_predict = dates[-80:]\n",
    "dates = dates[:-80]"
   ]
  },
  {
   "cell_type": "code",
   "execution_count": 14,
   "metadata": {},
   "outputs": [
    {
     "data": {
      "text/html": [
       "<div>\n",
       "<style scoped>\n",
       "    .dataframe tbody tr th:only-of-type {\n",
       "        vertical-align: middle;\n",
       "    }\n",
       "\n",
       "    .dataframe tbody tr th {\n",
       "        vertical-align: top;\n",
       "    }\n",
       "\n",
       "    .dataframe thead th {\n",
       "        text-align: right;\n",
       "    }\n",
       "</style>\n",
       "<table border=\"1\" class=\"dataframe\">\n",
       "  <thead>\n",
       "    <tr style=\"text-align: right;\">\n",
       "      <th></th>\n",
       "      <th>Date</th>\n",
       "      <th>Price</th>\n",
       "      <th>Open</th>\n",
       "      <th>High</th>\n",
       "      <th>Low</th>\n",
       "      <th>Volume(M)</th>\n",
       "      <th>HL Perc</th>\n",
       "      <th>CO Perc</th>\n",
       "    </tr>\n",
       "  </thead>\n",
       "  <tbody>\n",
       "    <tr>\n",
       "      <th>0</th>\n",
       "      <td>1/4/2016</td>\n",
       "      <td>560.0</td>\n",
       "      <td>565.5</td>\n",
       "      <td>569.2</td>\n",
       "      <td>558.0</td>\n",
       "      <td>4.25</td>\n",
       "      <td>2.007168</td>\n",
       "      <td>-0.972591</td>\n",
       "    </tr>\n",
       "    <tr>\n",
       "      <th>1</th>\n",
       "      <td>1/5/2016</td>\n",
       "      <td>564.5</td>\n",
       "      <td>563.5</td>\n",
       "      <td>569.2</td>\n",
       "      <td>556.0</td>\n",
       "      <td>3.97</td>\n",
       "      <td>2.374101</td>\n",
       "      <td>0.177462</td>\n",
       "    </tr>\n",
       "    <tr>\n",
       "      <th>2</th>\n",
       "      <td>1/6/2016</td>\n",
       "      <td>560.0</td>\n",
       "      <td>564.0</td>\n",
       "      <td>568.0</td>\n",
       "      <td>554.8</td>\n",
       "      <td>4.07</td>\n",
       "      <td>2.379236</td>\n",
       "      <td>-0.709220</td>\n",
       "    </tr>\n",
       "    <tr>\n",
       "      <th>3</th>\n",
       "      <td>1/7/2016</td>\n",
       "      <td>546.0</td>\n",
       "      <td>544.0</td>\n",
       "      <td>548.5</td>\n",
       "      <td>541.0</td>\n",
       "      <td>7.60</td>\n",
       "      <td>1.386322</td>\n",
       "      <td>0.367647</td>\n",
       "    </tr>\n",
       "    <tr>\n",
       "      <th>4</th>\n",
       "      <td>1/8/2016</td>\n",
       "      <td>559.5</td>\n",
       "      <td>550.0</td>\n",
       "      <td>564.0</td>\n",
       "      <td>547.0</td>\n",
       "      <td>11.41</td>\n",
       "      <td>3.107861</td>\n",
       "      <td>1.727273</td>\n",
       "    </tr>\n",
       "  </tbody>\n",
       "</table>\n",
       "</div>"
      ],
      "text/plain": [
       "       Date  Price   Open   High    Low Volume(M)   HL Perc   CO Perc\n",
       "0  1/4/2016  560.0  565.5  569.2  558.0      4.25  2.007168 -0.972591\n",
       "1  1/5/2016  564.5  563.5  569.2  556.0      3.97  2.374101  0.177462\n",
       "2  1/6/2016  560.0  564.0  568.0  554.8      4.07  2.379236 -0.709220\n",
       "3  1/7/2016  546.0  544.0  548.5  541.0      7.60  1.386322  0.367647\n",
       "4  1/8/2016  559.5  550.0  564.0  547.0     11.41  3.107861  1.727273"
      ]
     },
     "execution_count": 14,
     "metadata": {},
     "output_type": "execute_result"
    }
   ],
   "source": [
    "df.head()"
   ]
  },
  {
   "cell_type": "code",
   "execution_count": 15,
   "metadata": {},
   "outputs": [],
   "source": [
    "df[\"Price Next Month\"] = np.array(df[\"Price\"].shift(-80))"
   ]
  },
  {
   "cell_type": "code",
   "execution_count": 16,
   "metadata": {},
   "outputs": [
    {
     "data": {
      "text/html": [
       "<div>\n",
       "<style scoped>\n",
       "    .dataframe tbody tr th:only-of-type {\n",
       "        vertical-align: middle;\n",
       "    }\n",
       "\n",
       "    .dataframe tbody tr th {\n",
       "        vertical-align: top;\n",
       "    }\n",
       "\n",
       "    .dataframe thead th {\n",
       "        text-align: right;\n",
       "    }\n",
       "</style>\n",
       "<table border=\"1\" class=\"dataframe\">\n",
       "  <thead>\n",
       "    <tr style=\"text-align: right;\">\n",
       "      <th></th>\n",
       "      <th>Date</th>\n",
       "      <th>Price</th>\n",
       "      <th>Open</th>\n",
       "      <th>High</th>\n",
       "      <th>Low</th>\n",
       "      <th>Volume(M)</th>\n",
       "      <th>HL Perc</th>\n",
       "      <th>CO Perc</th>\n",
       "      <th>Price Next Month</th>\n",
       "    </tr>\n",
       "  </thead>\n",
       "  <tbody>\n",
       "    <tr>\n",
       "      <th>0</th>\n",
       "      <td>1/4/2016</td>\n",
       "      <td>560.0</td>\n",
       "      <td>565.5</td>\n",
       "      <td>569.2</td>\n",
       "      <td>558.0</td>\n",
       "      <td>4.25</td>\n",
       "      <td>2.007168</td>\n",
       "      <td>-0.972591</td>\n",
       "      <td>665.9</td>\n",
       "    </tr>\n",
       "    <tr>\n",
       "      <th>1</th>\n",
       "      <td>1/5/2016</td>\n",
       "      <td>564.5</td>\n",
       "      <td>563.5</td>\n",
       "      <td>569.2</td>\n",
       "      <td>556.0</td>\n",
       "      <td>3.97</td>\n",
       "      <td>2.374101</td>\n",
       "      <td>0.177462</td>\n",
       "      <td>694.0</td>\n",
       "    </tr>\n",
       "    <tr>\n",
       "      <th>2</th>\n",
       "      <td>1/6/2016</td>\n",
       "      <td>560.0</td>\n",
       "      <td>564.0</td>\n",
       "      <td>568.0</td>\n",
       "      <td>554.8</td>\n",
       "      <td>4.07</td>\n",
       "      <td>2.379236</td>\n",
       "      <td>-0.709220</td>\n",
       "      <td>669.5</td>\n",
       "    </tr>\n",
       "    <tr>\n",
       "      <th>3</th>\n",
       "      <td>1/7/2016</td>\n",
       "      <td>546.0</td>\n",
       "      <td>544.0</td>\n",
       "      <td>548.5</td>\n",
       "      <td>541.0</td>\n",
       "      <td>7.60</td>\n",
       "      <td>1.386322</td>\n",
       "      <td>0.367647</td>\n",
       "      <td>642.0</td>\n",
       "    </tr>\n",
       "    <tr>\n",
       "      <th>4</th>\n",
       "      <td>1/8/2016</td>\n",
       "      <td>559.5</td>\n",
       "      <td>550.0</td>\n",
       "      <td>564.0</td>\n",
       "      <td>547.0</td>\n",
       "      <td>11.41</td>\n",
       "      <td>3.107861</td>\n",
       "      <td>1.727273</td>\n",
       "      <td>645.0</td>\n",
       "    </tr>\n",
       "  </tbody>\n",
       "</table>\n",
       "</div>"
      ],
      "text/plain": [
       "       Date  Price   Open   High    Low Volume(M)   HL Perc   CO Perc  \\\n",
       "0  1/4/2016  560.0  565.5  569.2  558.0      4.25  2.007168 -0.972591   \n",
       "1  1/5/2016  564.5  563.5  569.2  556.0      3.97  2.374101  0.177462   \n",
       "2  1/6/2016  560.0  564.0  568.0  554.8      4.07  2.379236 -0.709220   \n",
       "3  1/7/2016  546.0  544.0  548.5  541.0      7.60  1.386322  0.367647   \n",
       "4  1/8/2016  559.5  550.0  564.0  547.0     11.41  3.107861  1.727273   \n",
       "\n",
       "   Price Next Month  \n",
       "0             665.9  \n",
       "1             694.0  \n",
       "2             669.5  \n",
       "3             642.0  \n",
       "4             645.0  "
      ]
     },
     "execution_count": 16,
     "metadata": {},
     "output_type": "execute_result"
    }
   ],
   "source": [
    "df.head()"
   ]
  },
  {
   "cell_type": "code",
   "execution_count": 17,
   "metadata": {},
   "outputs": [],
   "source": [
    "df = df[[\"HL Perc\",\"CO Perc\",\"Volume(M)\",\"Price Next Month\",\"Price\"]]"
   ]
  },
  {
   "cell_type": "code",
   "execution_count": 18,
   "metadata": {},
   "outputs": [],
   "source": [
    "X = np.array(df.drop([\"Price Next Month\"], 1))"
   ]
  },
  {
   "cell_type": "code",
   "execution_count": 19,
   "metadata": {},
   "outputs": [],
   "source": [
    "df.dropna(inplace = True)"
   ]
  },
  {
   "cell_type": "code",
   "execution_count": 20,
   "metadata": {},
   "outputs": [],
   "source": [
    "y = np.array(df[\"Price Next Month\"])"
   ]
  },
  {
   "cell_type": "markdown",
   "metadata": {},
   "source": [
    "# Pre Processing & Training and Splitting the Data"
   ]
  },
  {
   "cell_type": "code",
   "execution_count": 21,
   "metadata": {},
   "outputs": [],
   "source": [
    "from sklearn import preprocessing\n",
    "X = preprocessing.scale(X)"
   ]
  },
  {
   "cell_type": "code",
   "execution_count": 22,
   "metadata": {},
   "outputs": [
    {
     "data": {
      "text/plain": [
       "(1267, 4)"
      ]
     },
     "execution_count": 22,
     "metadata": {},
     "output_type": "execute_result"
    }
   ],
   "source": [
    "X.shape"
   ]
  },
  {
   "cell_type": "code",
   "execution_count": 23,
   "metadata": {},
   "outputs": [
    {
     "data": {
      "text/plain": [
       "(1187,)"
      ]
     },
     "execution_count": 23,
     "metadata": {},
     "output_type": "execute_result"
    }
   ],
   "source": [
    "y.shape"
   ]
  },
  {
   "cell_type": "code",
   "execution_count": 24,
   "metadata": {},
   "outputs": [],
   "source": [
    "X_predict = X[-80:]\n",
    "X = X[:-80]"
   ]
  },
  {
   "cell_type": "code",
   "execution_count": 25,
   "metadata": {},
   "outputs": [
    {
     "data": {
      "text/plain": [
       "(1187, 4)"
      ]
     },
     "execution_count": 25,
     "metadata": {},
     "output_type": "execute_result"
    }
   ],
   "source": [
    "X.shape"
   ]
  },
  {
   "cell_type": "code",
   "execution_count": 26,
   "metadata": {},
   "outputs": [],
   "source": [
    "from sklearn.model_selection import train_test_split\n",
    "X_train, X_test, y_train, y_test = train_test_split(X, y, test_size = 0.25)"
   ]
  },
  {
   "cell_type": "markdown",
   "metadata": {},
   "source": [
    "# XGBoosting Regressor Algorithm Implementation"
   ]
  },
  {
   "cell_type": "code",
   "execution_count": 27,
   "metadata": {},
   "outputs": [],
   "source": [
    "from xgboost import XGBRegressor\n",
    "model = XGBRegressor()"
   ]
  },
  {
   "cell_type": "code",
   "execution_count": 28,
   "metadata": {},
   "outputs": [
    {
     "data": {
      "text/plain": [
       "XGBRegressor(base_score=0.5, booster='gbtree', colsample_bylevel=1,\n",
       "             colsample_bynode=1, colsample_bytree=1, gamma=0, gpu_id=-1,\n",
       "             importance_type='gain', interaction_constraints='',\n",
       "             learning_rate=0.300000012, max_delta_step=0, max_depth=6,\n",
       "             min_child_weight=1, missing=nan, monotone_constraints='()',\n",
       "             n_estimators=100, n_jobs=4, num_parallel_tree=1, random_state=0,\n",
       "             reg_alpha=0, reg_lambda=1, scale_pos_weight=1, subsample=1,\n",
       "             tree_method='exact', validate_parameters=1, verbosity=None)"
      ]
     },
     "execution_count": 28,
     "metadata": {},
     "output_type": "execute_result"
    }
   ],
   "source": [
    "model.fit(X, y)"
   ]
  },
  {
   "cell_type": "code",
   "execution_count": 29,
   "metadata": {},
   "outputs": [
    {
     "data": {
      "text/plain": [
       "0.9991098277084919"
      ]
     },
     "execution_count": 29,
     "metadata": {},
     "output_type": "execute_result"
    }
   ],
   "source": [
    "conf = model.score(X_train, y_train)\n",
    "conf"
   ]
  },
  {
   "cell_type": "code",
   "execution_count": 30,
   "metadata": {},
   "outputs": [
    {
     "data": {
      "text/plain": [
       "array([114.287994, 103.11488 , 128.57355 ,  97.796234, 114.76289 ,\n",
       "       100.53497 , 102.92692 ,  99.81825 , 119.42454 , 115.06355 ,\n",
       "       110.91631 , 122.20405 , 115.06355 , 104.49768 ,  94.993904,\n",
       "       118.53433 , 103.12957 ,  78.91398 ,  85.8593  ,  78.91398 ,\n",
       "        76.83738 ,  90.74692 ,  97.796234, 116.13834 , 112.639046,\n",
       "        95.15091 , 107.127304,  95.57833 , 109.30034 , 111.1928  ,\n",
       "       112.32782 , 110.42184 , 108.92237 ,  66.72408 , 102.39995 ,\n",
       "       116.67657 , 100.447395,  91.08453 ,  89.89166 ,  96.39488 ,\n",
       "        99.24117 ,  51.15566 ,  76.50159 ,  71.37317 ,  57.12358 ,\n",
       "        45.526897,  46.678646,  84.89418 ,  73.908936,  82.55688 ,\n",
       "        73.95914 ,  75.90261 ,  49.97284 ,  56.55096 ,  77.01693 ,\n",
       "        77.780594,  80.16817 ,  66.7299  ,  67.19212 ,  48.880447,\n",
       "        68.18252 ,  84.27954 ,  79.984604, 101.26023 ,  79.9342  ,\n",
       "        58.19994 ,  75.9773  ,  76.0864  ,  69.84239 ,  78.46875 ,\n",
       "        78.30055 ,  67.69857 ,  82.605   ,  88.18692 ,  80.454636,\n",
       "        52.238895,  85.808426,  98.40357 ,  67.96715 ,  83.75909 ],\n",
       "      dtype=float32)"
      ]
     },
     "execution_count": 30,
     "metadata": {},
     "output_type": "execute_result"
    }
   ],
   "source": [
    "predictions = model.predict(X_predict)\n",
    "predictions"
   ]
  },
  {
   "cell_type": "code",
   "execution_count": 31,
   "metadata": {},
   "outputs": [],
   "source": [
    "actual = pd.DataFrame(dates, columns=[\"Dates\"])\n",
    "actual[\"Closing Price\"] = df[\"Price\"]\n",
    "actual[\"Forecast\"] = np.nan\n",
    "actual.set_index(\"Dates\", inplace= True)\n",
    "forecast = pd.DataFrame(dates_predict, columns = [\"Dates\"])\n",
    "forecast[\"Closing Price\"] = np.nan\n",
    "forecast[\"Forecast\"] = predictions\n",
    "forecast.set_index(\"Dates\", inplace = True)\n",
    "var = [actual, forecast]\n",
    "Forecast_output = pd.concat(var)"
   ]
  },
  {
   "cell_type": "markdown",
   "metadata": {},
   "source": [
    "# Plotting the Current Closing Prices and the Forecast"
   ]
  },
  {
   "cell_type": "code",
   "execution_count": 32,
   "metadata": {},
   "outputs": [
    {
     "data": {
      "text/plain": [
       "<matplotlib.legend.Legend at 0xc027fa0>"
      ]
     },
     "execution_count": 32,
     "metadata": {},
     "output_type": "execute_result"
    },
    {
     "data": {
      "image/png": "[encoded data removed]",
      "text/plain": [
       "<Figure size 1440x864 with 1 Axes>"
      ]
     },
     "metadata": {
      "needs_background": "light"
     },
     "output_type": "display_data"
    }
   ],
   "source": [
    "Forecast_output.plot(figsize= (20,12), title = \"Forecast of Rolls Royce Stock Market\", linewidth = 1.5)\n",
    "plt.ylabel(\"Closing Prices for the day\")\n",
    "plt.xlabel(\"Dates\")\n",
    "plt.legend(loc = 1, prop = {\"size\" : 20})"
   ]
  },
  {
   "cell_type": "code",
   "execution_count": null,
   "metadata": {},
   "outputs": [],
   "source": []
  }
 ],
 "metadata": {
  "kernelspec": {
   "display_name": "Python 3",
   "language": "python",
   "name": "python3"
  },
  "language_info": {
   "codemirror_mode": {
    "name": "ipython",
    "version": 3
   },
   "file_extension": ".py",
   "mimetype": "text/x-python",
   "name": "python",
   "nbconvert_exporter": "python",
   "pygments_lexer": "ipython3",
   "version": "3.8.3"
  }
 },
 "nbformat": 4,
 "nbformat_minor": 4
}
