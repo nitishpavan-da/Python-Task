{
 "cells": [
  {
   "cell_type": "code",
   "execution_count": 12,
   "metadata": {},
   "outputs": [
    {
     "name": "stdout",
     "output_type": "stream",
     "text": [
      "Please roll the dice\n",
      "6\n",
      "Please roll the dice again\n"
     ]
    }
   ],
   "source": [
    "import random\n",
    "\n",
    "print(\"Please roll the dice\")\n",
    "\n",
    "dice_range = random.randint(1,6)\n",
    "print(dice_range)\n",
    "if(dice_range == 6):\n",
    "    print(\"Please roll the dice again\")\n",
    "else:\n",
    "    print(\"Pass it on to the next player\")\n",
    "\n"
   ]
  },
  {
   "cell_type": "code",
   "execution_count": null,
   "metadata": {},
   "outputs": [],
   "source": []
  },
  {
   "cell_type": "code",
   "execution_count": null,
   "metadata": {},
   "outputs": [],
   "source": []
  }
 ],
 "metadata": {
  "kernelspec": {
   "display_name": "Python 3",
   "language": "python",
   "name": "python3"
  },
  "language_info": {
   "codemirror_mode": {
    "name": "ipython",
    "version": 3
   },
   "file_extension": ".py",
   "mimetype": "text/x-python",
   "name": "python",
   "nbconvert_exporter": "python",
   "pygments_lexer": "ipython3",
   "version": "3.8.3"
  }
 },
 "nbformat": 4,
 "nbformat_minor": 4
}
